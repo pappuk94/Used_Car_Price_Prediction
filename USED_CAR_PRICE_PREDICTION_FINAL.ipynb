{
 "cells": [
  {
   "cell_type": "markdown",
   "id": "5657085f",
   "metadata": {},
   "source": [
    " # Used Car Price Prediction using Machine Learning"
   ]
  },
  {
   "cell_type": "markdown",
   "id": "a01b6a39",
   "metadata": {},
   "source": [
    "### `Problem Statement:`\n",
    "The used car market is large and growing day by day, with millions of used `cars` sold each year. In these times as we explore through automobile websites in search of buying or selling a used car, the price that we feel is not\n",
    "accurate enough. Sometimes the buying price is high or sometimes the selling price is too low. This puts us in a confusing state whether to buy or sell the car at that price. Deciding whether a used car is worth the\n",
    "posted price when we see listings online can be difficult. Several factors, including `KM Driven`, `Fuel Type`, `No. of Owner`, `Year`, etc. can influence the actual worth of a car. From the perspective of a seller, it is also a dilemma to price a used car appropriately.\n",
    "\n",
    "Based on existing data, our aim is to use machine learning algorithms to develop models for **predicting used car prices**.\n",
    "In this way both buyers and sellers get a satisfactory price. Helping to ensure fair pricing and efficient transactions.\n",
    "\n",
    "**$Essentially$** --\n",
    "- The aim is to build a model that can accurately predict the price of a used car, based on the data available, in order to assist buyers and sellers in making informed decisions.\n",
    "- The model analyze the current market trends and provide insights into the most important factors **affecting** the **price** of a used **car**.\n",
    "- The model will be trained on a large dataset of used car sales, and evaluated using various **performance metrics** to ensure its **accuracy** and reliability.\n"
   ]
  },
  {
   "cell_type": "markdown",
   "id": "ef4b0e6e",
   "metadata": {},
   "source": [
    "# Reading and Understanding the Data"
   ]
  },
  {
   "cell_type": "markdown",
   "id": "ee5b6a0b",
   "metadata": {},
   "source": [
    "## The Attributes include:\n",
    "- **S.NO**             :  Serial Number\n",
    "- **Name**             :  Model name of car\n",
    "- **Location**         :  Name of cities from where the car belongs to.\n",
    "- **Year**             :  Year of registration with Road Transport Athority\n",
    "- **Kilometers_Driven**:  Number of the kilometers traveled by the vehical in `Kms`.\n",
    "- **Fuel_Type**        :  Type of Fuel of the vehical\n",
    "                                    * Diesel      \n",
    "                                    * Petrol      \n",
    "                                    * CNG           \n",
    "                                    * LPG           \n",
    "                                    * Electric       \n",
    "- **Transmission**     :  Information about the type of transmission that a car has.\n",
    "                                    * Manual\n",
    "                                    * Automatic\n",
    "- **Owner_Type**       :  Information about the class of ownership of the car.\n",
    "                                    * First\n",
    "                                    * Second\n",
    "                                    * Third\n",
    "                                    * Fourth & Above\n",
    "- **Mileage**          :  Fuel efficiency , measured in `kilometers per liter ( kmpl )`\n",
    "- **Engine**           :  Size of the engine in `Cubic Centimeters ( CC )`\n",
    "- **Power**            :  Power of the engine in `Brake Horsepower ( bhp )`\n",
    "- **Seats**            :  Number of seates that a car has.\n",
    "- **New_Price**        :  Original price of the car.\n",
    "- **Price**            :  Current market price of the car.\n",
    "\n",
    "**Target Variable -- Price** \n",
    "\n",
    "**DataFrame -- df**"
   ]
  },
  {
   "cell_type": "code",
   "execution_count": 180,
   "id": "98f57965",
   "metadata": {},
   "outputs": [],
   "source": [
    "# Importing necessary libraries and also suppressing Warnings\n",
    "\n",
    "import numpy as np\n",
    "import pandas as pd\n",
    "import matplotlib.pyplot as plt\n",
    "%matplotlib inline                 \n",
    "import seaborn as sns\n",
    "import warnings\n",
    "warnings.filterwarnings('ignore')"
   ]
  },
  {
   "cell_type": "code",
   "execution_count": 181,
   "id": "6d67ff31",
   "metadata": {},
   "outputs": [
    {
     "data": {
      "text/html": [
       "<div>\n",
       "<style scoped>\n",
       "    .dataframe tbody tr th:only-of-type {\n",
       "        vertical-align: middle;\n",
       "    }\n",
       "\n",
       "    .dataframe tbody tr th {\n",
       "        vertical-align: top;\n",
       "    }\n",
       "\n",
       "    .dataframe thead th {\n",
       "        text-align: right;\n",
       "    }\n",
       "</style>\n",
       "<table border=\"1\" class=\"dataframe\">\n",
       "  <thead>\n",
       "    <tr style=\"text-align: right;\">\n",
       "      <th></th>\n",
       "      <th>S.No.</th>\n",
       "      <th>Name</th>\n",
       "      <th>Location</th>\n",
       "      <th>Year</th>\n",
       "      <th>Kilometers_Driven</th>\n",
       "      <th>Fuel_Type</th>\n",
       "      <th>Transmission</th>\n",
       "      <th>Owner_Type</th>\n",
       "      <th>Mileage</th>\n",
       "      <th>Engine</th>\n",
       "      <th>Power</th>\n",
       "      <th>Seats</th>\n",
       "      <th>New_Price</th>\n",
       "      <th>Price</th>\n",
       "    </tr>\n",
       "  </thead>\n",
       "  <tbody>\n",
       "    <tr>\n",
       "      <th>0</th>\n",
       "      <td>0</td>\n",
       "      <td>Maruti Wagon R LXI CNG</td>\n",
       "      <td>Mumbai</td>\n",
       "      <td>2010</td>\n",
       "      <td>72000</td>\n",
       "      <td>CNG</td>\n",
       "      <td>Manual</td>\n",
       "      <td>First</td>\n",
       "      <td>26.6 km/kg</td>\n",
       "      <td>998 CC</td>\n",
       "      <td>58.16 bhp</td>\n",
       "      <td>5.0</td>\n",
       "      <td>NaN</td>\n",
       "      <td>1.75</td>\n",
       "    </tr>\n",
       "    <tr>\n",
       "      <th>1</th>\n",
       "      <td>1</td>\n",
       "      <td>Hyundai Creta 1.6 CRDi SX Option</td>\n",
       "      <td>Pune</td>\n",
       "      <td>2015</td>\n",
       "      <td>41000</td>\n",
       "      <td>Diesel</td>\n",
       "      <td>Manual</td>\n",
       "      <td>First</td>\n",
       "      <td>19.67 kmpl</td>\n",
       "      <td>1582 CC</td>\n",
       "      <td>126.2 bhp</td>\n",
       "      <td>5.0</td>\n",
       "      <td>NaN</td>\n",
       "      <td>12.50</td>\n",
       "    </tr>\n",
       "    <tr>\n",
       "      <th>2</th>\n",
       "      <td>2</td>\n",
       "      <td>Honda Jazz V</td>\n",
       "      <td>Chennai</td>\n",
       "      <td>2011</td>\n",
       "      <td>46000</td>\n",
       "      <td>Petrol</td>\n",
       "      <td>Manual</td>\n",
       "      <td>First</td>\n",
       "      <td>18.2 kmpl</td>\n",
       "      <td>1199 CC</td>\n",
       "      <td>88.7 bhp</td>\n",
       "      <td>5.0</td>\n",
       "      <td>8.61 Lakh</td>\n",
       "      <td>4.50</td>\n",
       "    </tr>\n",
       "    <tr>\n",
       "      <th>3</th>\n",
       "      <td>3</td>\n",
       "      <td>Maruti Ertiga VDI</td>\n",
       "      <td>Chennai</td>\n",
       "      <td>2012</td>\n",
       "      <td>87000</td>\n",
       "      <td>Diesel</td>\n",
       "      <td>Manual</td>\n",
       "      <td>First</td>\n",
       "      <td>20.77 kmpl</td>\n",
       "      <td>1248 CC</td>\n",
       "      <td>88.76 bhp</td>\n",
       "      <td>7.0</td>\n",
       "      <td>NaN</td>\n",
       "      <td>6.00</td>\n",
       "    </tr>\n",
       "    <tr>\n",
       "      <th>4</th>\n",
       "      <td>4</td>\n",
       "      <td>Audi A4 New 2.0 TDI Multitronic</td>\n",
       "      <td>Coimbatore</td>\n",
       "      <td>2013</td>\n",
       "      <td>40670</td>\n",
       "      <td>Diesel</td>\n",
       "      <td>Automatic</td>\n",
       "      <td>Second</td>\n",
       "      <td>15.2 kmpl</td>\n",
       "      <td>1968 CC</td>\n",
       "      <td>140.8 bhp</td>\n",
       "      <td>5.0</td>\n",
       "      <td>NaN</td>\n",
       "      <td>17.74</td>\n",
       "    </tr>\n",
       "  </tbody>\n",
       "</table>\n",
       "</div>"
      ],
      "text/plain": [
       "   S.No.                              Name    Location  Year  \\\n",
       "0      0            Maruti Wagon R LXI CNG      Mumbai  2010   \n",
       "1      1  Hyundai Creta 1.6 CRDi SX Option        Pune  2015   \n",
       "2      2                      Honda Jazz V     Chennai  2011   \n",
       "3      3                 Maruti Ertiga VDI     Chennai  2012   \n",
       "4      4   Audi A4 New 2.0 TDI Multitronic  Coimbatore  2013   \n",
       "\n",
       "   Kilometers_Driven Fuel_Type Transmission Owner_Type     Mileage   Engine  \\\n",
       "0              72000       CNG       Manual      First  26.6 km/kg   998 CC   \n",
       "1              41000    Diesel       Manual      First  19.67 kmpl  1582 CC   \n",
       "2              46000    Petrol       Manual      First   18.2 kmpl  1199 CC   \n",
       "3              87000    Diesel       Manual      First  20.77 kmpl  1248 CC   \n",
       "4              40670    Diesel    Automatic     Second   15.2 kmpl  1968 CC   \n",
       "\n",
       "       Power  Seats  New_Price  Price  \n",
       "0  58.16 bhp    5.0        NaN   1.75  \n",
       "1  126.2 bhp    5.0        NaN  12.50  \n",
       "2   88.7 bhp    5.0  8.61 Lakh   4.50  \n",
       "3  88.76 bhp    7.0        NaN   6.00  \n",
       "4  140.8 bhp    5.0        NaN  17.74  "
      ]
     },
     "execution_count": 181,
     "metadata": {},
     "output_type": "execute_result"
    }
   ],
   "source": [
    "# Importing Datatset\n",
    "\n",
    "df = pd.read_csv('carsData.csv')\n",
    "df.head()"
   ]
  },
  {
   "cell_type": "markdown",
   "id": "93d09c1c",
   "metadata": {},
   "source": [
    "# Exploratory Data Analysis \n",
    "We will explore the various feature variables and draw information about how significant each variable is."
   ]
  },
  {
   "cell_type": "markdown",
   "id": "569c7a9a",
   "metadata": {},
   "source": [
    "### Checking various Aspects of the Dataset"
   ]
  },
  {
   "cell_type": "code",
   "execution_count": 182,
   "id": "8c9928e9",
   "metadata": {},
   "outputs": [
    {
     "data": {
      "text/plain": [
       "(7253, 14)"
      ]
     },
     "execution_count": 182,
     "metadata": {},
     "output_type": "execute_result"
    }
   ],
   "source": [
    "# Checking Shape\n",
    "\n",
    "df.shape"
   ]
  },
  {
   "cell_type": "markdown",
   "id": "e2acca54",
   "metadata": {},
   "source": [
    "* As we can see our dataset contain `7253 rows` and `14 columns`"
   ]
  },
  {
   "cell_type": "code",
   "execution_count": 183,
   "id": "4ef1091d",
   "metadata": {},
   "outputs": [
    {
     "data": {
      "text/plain": [
       "Index(['S.No.', 'Name', 'Location', 'Year', 'Kilometers_Driven', 'Fuel_Type',\n",
       "       'Transmission', 'Owner_Type', 'Mileage', 'Engine', 'Power', 'Seats',\n",
       "       'New_Price', 'Price'],\n",
       "      dtype='object')"
      ]
     },
     "execution_count": 183,
     "metadata": {},
     "output_type": "execute_result"
    }
   ],
   "source": [
    "#Checking Attribute names\n",
    "\n",
    "df.columns"
   ]
  },
  {
   "cell_type": "code",
   "execution_count": 80,
   "id": "a24a654c",
   "metadata": {},
   "outputs": [
    {
     "name": "stdout",
     "output_type": "stream",
     "text": [
      "<class 'pandas.core.frame.DataFrame'>\n",
      "RangeIndex: 7253 entries, 0 to 7252\n",
      "Data columns (total 14 columns):\n",
      " #   Column             Non-Null Count  Dtype  \n",
      "---  ------             --------------  -----  \n",
      " 0   S.No.              7253 non-null   int64  \n",
      " 1   Name               7253 non-null   object \n",
      " 2   Location           7253 non-null   object \n",
      " 3   Year               7253 non-null   int64  \n",
      " 4   Kilometers_Driven  7253 non-null   int64  \n",
      " 5   Fuel_Type          7253 non-null   object \n",
      " 6   Transmission       7253 non-null   object \n",
      " 7   Owner_Type         7253 non-null   object \n",
      " 8   Mileage            7251 non-null   object \n",
      " 9   Engine             7207 non-null   object \n",
      " 10  Power              7207 non-null   object \n",
      " 11  Seats              7200 non-null   float64\n",
      " 12  New_Price          1006 non-null   object \n",
      " 13  Price              6019 non-null   float64\n",
      "dtypes: float64(2), int64(3), object(9)\n",
      "memory usage: 793.4+ KB\n"
     ]
    }
   ],
   "source": [
    "# Info of the Dataset\n",
    "\n",
    "df.info()"
   ]
  },
  {
   "cell_type": "code",
   "execution_count": 184,
   "id": "a14aa53e",
   "metadata": {
    "scrolled": true
   },
   "outputs": [
    {
     "name": "stdout",
     "output_type": "stream",
     "text": [
      "S.No.                   0\n",
      "Name                    0\n",
      "Location                0\n",
      "Year                    0\n",
      "Kilometers_Driven       0\n",
      "Fuel_Type               0\n",
      "Transmission            0\n",
      "Owner_Type              0\n",
      "Mileage                 2\n",
      "Engine                 46\n",
      "Power                  46\n",
      "Seats                  53\n",
      "New_Price            6247\n",
      "Price                1234\n",
      "dtype: int64\n",
      "Toatl number of missing values in the dataset :  7628\n"
     ]
    }
   ],
   "source": [
    "# Checking missing entries\n",
    "\n",
    "print(df.isna().sum())\n",
    "print(\"Toatl number of missing values in the dataset : \",df.isnull().sum().sum())"
   ]
  },
  {
   "cell_type": "code",
   "execution_count": 7,
   "id": "133f250b",
   "metadata": {},
   "outputs": [
    {
     "data": {
      "image/png": "[encoded data removed]",
      "text/plain": [
       "<Figure size 864x648 with 2 Axes>"
      ]
     },
     "metadata": {
      "needs_background": "light"
     },
     "output_type": "display_data"
    }
   ],
   "source": [
    "plt.figure(figsize=(12,9))\n",
    "sns.heatmap(df.isnull(),cbar=True, cmap='Accent')\n",
    "plt.title(\"Distribution of null values\",size=15,style=\"italic\",fontweight=\"bold\")\n",
    "plt.grid(True)\n",
    "plt.show()"
   ]
  },
  {
   "cell_type": "code",
   "execution_count": 185,
   "id": "0e884bdf",
   "metadata": {},
   "outputs": [
    {
     "data": {
      "text/plain": [
       "S.No.                 0.00\n",
       "Name                  0.00\n",
       "Location              0.00\n",
       "Year                  0.00\n",
       "Kilometers_Driven     0.00\n",
       "Fuel_Type             0.00\n",
       "Transmission          0.00\n",
       "Owner_Type            0.00\n",
       "Mileage               0.03\n",
       "Engine                0.63\n",
       "Power                 0.63\n",
       "Seats                 0.73\n",
       "New_Price            86.13\n",
       "Price                17.01\n",
       "dtype: float64"
      ]
     },
     "execution_count": 185,
     "metadata": {},
     "output_type": "execute_result"
    }
   ],
   "source": [
    "# Percentage of missing data\n",
    "\n",
    "null_percentage=round((df.isna().sum()/df.shape[0])*100,2)\n",
    "null_percentage"
   ]
  },
  {
   "cell_type": "code",
   "execution_count": 186,
   "id": "97d94ad3",
   "metadata": {},
   "outputs": [
    {
     "data": {
      "image/png": "[encoded data removed]",
      "text/plain": [
       "<Figure size 1440x432 with 1 Axes>"
      ]
     },
     "metadata": {
      "needs_background": "light"
     },
     "output_type": "display_data"
    }
   ],
   "source": [
    "plt.figure(figsize=(20,6))\n",
    "plt.bar(df.columns,null_percentage,color=[\"black\",\"palegreen\"])\n",
    "plt.title(\"Plot depicting percentage of Null Values in various Features\",size=15,\n",
    "          style=\"italic\",fontweight=\"bold\")\n",
    "plt.show()"
   ]
  },
  {
   "cell_type": "markdown",
   "id": "5f9df98b",
   "metadata": {},
   "source": [
    "* As we can see from the above plot `New_Price` column has 86% of data missing so its better to drop the column altogether and also `S.No` has no significance so it is being dropped."
   ]
  },
  {
   "cell_type": "code",
   "execution_count": 187,
   "id": "6d67810f",
   "metadata": {},
   "outputs": [
    {
     "data": {
      "text/html": [
       "<div>\n",
       "<style scoped>\n",
       "    .dataframe tbody tr th:only-of-type {\n",
       "        vertical-align: middle;\n",
       "    }\n",
       "\n",
       "    .dataframe tbody tr th {\n",
       "        vertical-align: top;\n",
       "    }\n",
       "\n",
       "    .dataframe thead th {\n",
       "        text-align: right;\n",
       "    }\n",
       "</style>\n",
       "<table border=\"1\" class=\"dataframe\">\n",
       "  <thead>\n",
       "    <tr style=\"text-align: right;\">\n",
       "      <th></th>\n",
       "      <th>Name</th>\n",
       "      <th>Location</th>\n",
       "      <th>Year</th>\n",
       "      <th>Kilometers_Driven</th>\n",
       "      <th>Fuel_Type</th>\n",
       "      <th>Transmission</th>\n",
       "      <th>Owner_Type</th>\n",
       "      <th>Mileage</th>\n",
       "      <th>Engine</th>\n",
       "      <th>Power</th>\n",
       "      <th>Seats</th>\n",
       "      <th>Price</th>\n",
       "    </tr>\n",
       "  </thead>\n",
       "  <tbody>\n",
       "    <tr>\n",
       "      <th>0</th>\n",
       "      <td>Maruti Wagon R LXI CNG</td>\n",
       "      <td>Mumbai</td>\n",
       "      <td>2010</td>\n",
       "      <td>72000</td>\n",
       "      <td>CNG</td>\n",
       "      <td>Manual</td>\n",
       "      <td>First</td>\n",
       "      <td>26.6 km/kg</td>\n",
       "      <td>998 CC</td>\n",
       "      <td>58.16 bhp</td>\n",
       "      <td>5.0</td>\n",
       "      <td>1.75</td>\n",
       "    </tr>\n",
       "    <tr>\n",
       "      <th>1</th>\n",
       "      <td>Hyundai Creta 1.6 CRDi SX Option</td>\n",
       "      <td>Pune</td>\n",
       "      <td>2015</td>\n",
       "      <td>41000</td>\n",
       "      <td>Diesel</td>\n",
       "      <td>Manual</td>\n",
       "      <td>First</td>\n",
       "      <td>19.67 kmpl</td>\n",
       "      <td>1582 CC</td>\n",
       "      <td>126.2 bhp</td>\n",
       "      <td>5.0</td>\n",
       "      <td>12.50</td>\n",
       "    </tr>\n",
       "    <tr>\n",
       "      <th>2</th>\n",
       "      <td>Honda Jazz V</td>\n",
       "      <td>Chennai</td>\n",
       "      <td>2011</td>\n",
       "      <td>46000</td>\n",
       "      <td>Petrol</td>\n",
       "      <td>Manual</td>\n",
       "      <td>First</td>\n",
       "      <td>18.2 kmpl</td>\n",
       "      <td>1199 CC</td>\n",
       "      <td>88.7 bhp</td>\n",
       "      <td>5.0</td>\n",
       "      <td>4.50</td>\n",
       "    </tr>\n",
       "    <tr>\n",
       "      <th>3</th>\n",
       "      <td>Maruti Ertiga VDI</td>\n",
       "      <td>Chennai</td>\n",
       "      <td>2012</td>\n",
       "      <td>87000</td>\n",
       "      <td>Diesel</td>\n",
       "      <td>Manual</td>\n",
       "      <td>First</td>\n",
       "      <td>20.77 kmpl</td>\n",
       "      <td>1248 CC</td>\n",
       "      <td>88.76 bhp</td>\n",
       "      <td>7.0</td>\n",
       "      <td>6.00</td>\n",
       "    </tr>\n",
       "    <tr>\n",
       "      <th>4</th>\n",
       "      <td>Audi A4 New 2.0 TDI Multitronic</td>\n",
       "      <td>Coimbatore</td>\n",
       "      <td>2013</td>\n",
       "      <td>40670</td>\n",
       "      <td>Diesel</td>\n",
       "      <td>Automatic</td>\n",
       "      <td>Second</td>\n",
       "      <td>15.2 kmpl</td>\n",
       "      <td>1968 CC</td>\n",
       "      <td>140.8 bhp</td>\n",
       "      <td>5.0</td>\n",
       "      <td>17.74</td>\n",
       "    </tr>\n",
       "  </tbody>\n",
       "</table>\n",
       "</div>"
      ],
      "text/plain": [
       "                               Name    Location  Year  Kilometers_Driven  \\\n",
       "0            Maruti Wagon R LXI CNG      Mumbai  2010              72000   \n",
       "1  Hyundai Creta 1.6 CRDi SX Option        Pune  2015              41000   \n",
       "2                      Honda Jazz V     Chennai  2011              46000   \n",
       "3                 Maruti Ertiga VDI     Chennai  2012              87000   \n",
       "4   Audi A4 New 2.0 TDI Multitronic  Coimbatore  2013              40670   \n",
       "\n",
       "  Fuel_Type Transmission Owner_Type     Mileage   Engine      Power  Seats  \\\n",
       "0       CNG       Manual      First  26.6 km/kg   998 CC  58.16 bhp    5.0   \n",
       "1    Diesel       Manual      First  19.67 kmpl  1582 CC  126.2 bhp    5.0   \n",
       "2    Petrol       Manual      First   18.2 kmpl  1199 CC   88.7 bhp    5.0   \n",
       "3    Diesel       Manual      First  20.77 kmpl  1248 CC  88.76 bhp    7.0   \n",
       "4    Diesel    Automatic     Second   15.2 kmpl  1968 CC  140.8 bhp    5.0   \n",
       "\n",
       "   Price  \n",
       "0   1.75  \n",
       "1  12.50  \n",
       "2   4.50  \n",
       "3   6.00  \n",
       "4  17.74  "
      ]
     },
     "execution_count": 187,
     "metadata": {},
     "output_type": "execute_result"
    }
   ],
   "source": [
    "df.drop(['S.No.','New_Price'],axis=1,inplace=True)\n",
    "df.head()"
   ]
  },
  {
   "cell_type": "code",
   "execution_count": 188,
   "id": "e931fccb",
   "metadata": {},
   "outputs": [
    {
     "data": {
      "text/plain": [
       "1"
      ]
     },
     "execution_count": 188,
     "metadata": {},
     "output_type": "execute_result"
    }
   ],
   "source": [
    "# Checking Duplicates\n",
    "\n",
    "df.duplicated().sum()"
   ]
  },
  {
   "cell_type": "code",
   "execution_count": 189,
   "id": "1b89a123",
   "metadata": {},
   "outputs": [],
   "source": [
    "# dropping Duplicates\n",
    "\n",
    "df.drop_duplicates(inplace=True)"
   ]
  },
  {
   "cell_type": "code",
   "execution_count": 190,
   "id": "648d7c05",
   "metadata": {},
   "outputs": [
    {
     "data": {
      "text/plain": [
       "0"
      ]
     },
     "execution_count": 190,
     "metadata": {},
     "output_type": "execute_result"
    }
   ],
   "source": [
    "df.duplicated().sum()"
   ]
  },
  {
   "cell_type": "code",
   "execution_count": 191,
   "id": "9d043061",
   "metadata": {},
   "outputs": [],
   "source": [
    "# Converting Year to Number_of_Years\n",
    "\n",
    "df['Year']=df['Year'].apply(lambda x: 2023-x)"
   ]
  },
  {
   "cell_type": "code",
   "execution_count": 192,
   "id": "099067dc",
   "metadata": {},
   "outputs": [
    {
     "data": {
      "text/html": [
       "<div>\n",
       "<style scoped>\n",
       "    .dataframe tbody tr th:only-of-type {\n",
       "        vertical-align: middle;\n",
       "    }\n",
       "\n",
       "    .dataframe tbody tr th {\n",
       "        vertical-align: top;\n",
       "    }\n",
       "\n",
       "    .dataframe thead th {\n",
       "        text-align: right;\n",
       "    }\n",
       "</style>\n",
       "<table border=\"1\" class=\"dataframe\">\n",
       "  <thead>\n",
       "    <tr style=\"text-align: right;\">\n",
       "      <th></th>\n",
       "      <th>Name</th>\n",
       "      <th>Location</th>\n",
       "      <th>Year</th>\n",
       "      <th>Kilometers_Driven</th>\n",
       "      <th>Fuel_Type</th>\n",
       "      <th>Transmission</th>\n",
       "      <th>Owner_Type</th>\n",
       "      <th>Mileage</th>\n",
       "      <th>Engine</th>\n",
       "      <th>Power</th>\n",
       "      <th>Seats</th>\n",
       "      <th>Price</th>\n",
       "    </tr>\n",
       "  </thead>\n",
       "  <tbody>\n",
       "    <tr>\n",
       "      <th>0</th>\n",
       "      <td>Maruti Wagon R LXI CNG</td>\n",
       "      <td>Mumbai</td>\n",
       "      <td>13</td>\n",
       "      <td>72000</td>\n",
       "      <td>CNG</td>\n",
       "      <td>Manual</td>\n",
       "      <td>First</td>\n",
       "      <td>26.6 km/kg</td>\n",
       "      <td>998 CC</td>\n",
       "      <td>58.16 bhp</td>\n",
       "      <td>5.0</td>\n",
       "      <td>1.75</td>\n",
       "    </tr>\n",
       "    <tr>\n",
       "      <th>1</th>\n",
       "      <td>Hyundai Creta 1.6 CRDi SX Option</td>\n",
       "      <td>Pune</td>\n",
       "      <td>8</td>\n",
       "      <td>41000</td>\n",
       "      <td>Diesel</td>\n",
       "      <td>Manual</td>\n",
       "      <td>First</td>\n",
       "      <td>19.67 kmpl</td>\n",
       "      <td>1582 CC</td>\n",
       "      <td>126.2 bhp</td>\n",
       "      <td>5.0</td>\n",
       "      <td>12.50</td>\n",
       "    </tr>\n",
       "  </tbody>\n",
       "</table>\n",
       "</div>"
      ],
      "text/plain": [
       "                               Name Location  Year  Kilometers_Driven  \\\n",
       "0            Maruti Wagon R LXI CNG   Mumbai    13              72000   \n",
       "1  Hyundai Creta 1.6 CRDi SX Option     Pune     8              41000   \n",
       "\n",
       "  Fuel_Type Transmission Owner_Type     Mileage   Engine      Power  Seats  \\\n",
       "0       CNG       Manual      First  26.6 km/kg   998 CC  58.16 bhp    5.0   \n",
       "1    Diesel       Manual      First  19.67 kmpl  1582 CC  126.2 bhp    5.0   \n",
       "\n",
       "   Price  \n",
       "0   1.75  \n",
       "1  12.50  "
      ]
     },
     "execution_count": 192,
     "metadata": {},
     "output_type": "execute_result"
    }
   ],
   "source": [
    "df.head(2)"
   ]
  },
  {
   "cell_type": "markdown",
   "id": "ba07cbd4",
   "metadata": {},
   "source": [
    "### Predictors of the Dataset"
   ]
  },
  {
   "cell_type": "markdown",
   "id": "0456c501",
   "metadata": {},
   "source": [
    "**Categorical Features**- 'Name', 'Location','Fuel_Type',\n",
    "                         'Transmission', 'Owner_Type'.\n",
    "\n",
    "**Continuous Features** - 'Kilometers_Driven','Mileage', 'Engine', 'Power',                               'Seats'.\n",
    "Variables `Mileage`, `Engine`, `Power` contain some text data like `kmpl`,`CC`,`bhp`. So we can remove those text data."
   ]
  },
  {
   "cell_type": "code",
   "execution_count": 193,
   "id": "c87839b8",
   "metadata": {},
   "outputs": [
    {
     "data": {
      "text/html": [
       "<div>\n",
       "<style scoped>\n",
       "    .dataframe tbody tr th:only-of-type {\n",
       "        vertical-align: middle;\n",
       "    }\n",
       "\n",
       "    .dataframe tbody tr th {\n",
       "        vertical-align: top;\n",
       "    }\n",
       "\n",
       "    .dataframe thead th {\n",
       "        text-align: right;\n",
       "    }\n",
       "</style>\n",
       "<table border=\"1\" class=\"dataframe\">\n",
       "  <thead>\n",
       "    <tr style=\"text-align: right;\">\n",
       "      <th></th>\n",
       "      <th>0</th>\n",
       "      <th>1</th>\n",
       "    </tr>\n",
       "  </thead>\n",
       "  <tbody>\n",
       "    <tr>\n",
       "      <th>0</th>\n",
       "      <td>998</td>\n",
       "      <td>CC</td>\n",
       "    </tr>\n",
       "    <tr>\n",
       "      <th>1</th>\n",
       "      <td>1582</td>\n",
       "      <td>CC</td>\n",
       "    </tr>\n",
       "    <tr>\n",
       "      <th>2</th>\n",
       "      <td>1199</td>\n",
       "      <td>CC</td>\n",
       "    </tr>\n",
       "    <tr>\n",
       "      <th>3</th>\n",
       "      <td>1248</td>\n",
       "      <td>CC</td>\n",
       "    </tr>\n",
       "    <tr>\n",
       "      <th>4</th>\n",
       "      <td>1968</td>\n",
       "      <td>CC</td>\n",
       "    </tr>\n",
       "  </tbody>\n",
       "</table>\n",
       "</div>"
      ],
      "text/plain": [
       "      0   1\n",
       "0   998  CC\n",
       "1  1582  CC\n",
       "2  1199  CC\n",
       "3  1248  CC\n",
       "4  1968  CC"
      ]
     },
     "execution_count": 193,
     "metadata": {},
     "output_type": "execute_result"
    }
   ],
   "source": [
    "cc_df = df[\"Engine\"].str.split(\" \", expand = True)\n",
    "cc_df.head()"
   ]
  },
  {
   "cell_type": "code",
   "execution_count": 194,
   "id": "5b134f3e",
   "metadata": {},
   "outputs": [],
   "source": [
    "df[\"Engine\"] = pd.to_numeric(cc_df[0], errors = 'coerce')"
   ]
  },
  {
   "cell_type": "code",
   "execution_count": 195,
   "id": "0b3ff3d6",
   "metadata": {},
   "outputs": [],
   "source": [
    "kmpl_df= df['Mileage'].str.split(\" \",expand=True)\n",
    "df['Mileage']=pd.to_numeric(kmpl_df[0],errors='coerce')\n",
    "bhp_df= df['Power'].str.split(\" \",expand=True)\n",
    "df['Power']=pd.to_numeric(bhp_df[0],errors='coerce')"
   ]
  },
  {
   "cell_type": "code",
   "execution_count": 196,
   "id": "c99eca60",
   "metadata": {},
   "outputs": [
    {
     "data": {
      "text/html": [
       "<div>\n",
       "<style scoped>\n",
       "    .dataframe tbody tr th:only-of-type {\n",
       "        vertical-align: middle;\n",
       "    }\n",
       "\n",
       "    .dataframe tbody tr th {\n",
       "        vertical-align: top;\n",
       "    }\n",
       "\n",
       "    .dataframe thead th {\n",
       "        text-align: right;\n",
       "    }\n",
       "</style>\n",
       "<table border=\"1\" class=\"dataframe\">\n",
       "  <thead>\n",
       "    <tr style=\"text-align: right;\">\n",
       "      <th></th>\n",
       "      <th>Name</th>\n",
       "      <th>Location</th>\n",
       "      <th>Year</th>\n",
       "      <th>Kilometers_Driven</th>\n",
       "      <th>Fuel_Type</th>\n",
       "      <th>Transmission</th>\n",
       "      <th>Owner_Type</th>\n",
       "      <th>Mileage</th>\n",
       "      <th>Engine</th>\n",
       "      <th>Power</th>\n",
       "      <th>Seats</th>\n",
       "      <th>Price</th>\n",
       "    </tr>\n",
       "  </thead>\n",
       "  <tbody>\n",
       "    <tr>\n",
       "      <th>0</th>\n",
       "      <td>Maruti Wagon R LXI CNG</td>\n",
       "      <td>Mumbai</td>\n",
       "      <td>13</td>\n",
       "      <td>72000</td>\n",
       "      <td>CNG</td>\n",
       "      <td>Manual</td>\n",
       "      <td>First</td>\n",
       "      <td>26.60</td>\n",
       "      <td>998.0</td>\n",
       "      <td>58.16</td>\n",
       "      <td>5.0</td>\n",
       "      <td>1.75</td>\n",
       "    </tr>\n",
       "    <tr>\n",
       "      <th>1</th>\n",
       "      <td>Hyundai Creta 1.6 CRDi SX Option</td>\n",
       "      <td>Pune</td>\n",
       "      <td>8</td>\n",
       "      <td>41000</td>\n",
       "      <td>Diesel</td>\n",
       "      <td>Manual</td>\n",
       "      <td>First</td>\n",
       "      <td>19.67</td>\n",
       "      <td>1582.0</td>\n",
       "      <td>126.20</td>\n",
       "      <td>5.0</td>\n",
       "      <td>12.50</td>\n",
       "    </tr>\n",
       "    <tr>\n",
       "      <th>2</th>\n",
       "      <td>Honda Jazz V</td>\n",
       "      <td>Chennai</td>\n",
       "      <td>12</td>\n",
       "      <td>46000</td>\n",
       "      <td>Petrol</td>\n",
       "      <td>Manual</td>\n",
       "      <td>First</td>\n",
       "      <td>18.20</td>\n",
       "      <td>1199.0</td>\n",
       "      <td>88.70</td>\n",
       "      <td>5.0</td>\n",
       "      <td>4.50</td>\n",
       "    </tr>\n",
       "  </tbody>\n",
       "</table>\n",
       "</div>"
      ],
      "text/plain": [
       "                               Name Location  Year  Kilometers_Driven  \\\n",
       "0            Maruti Wagon R LXI CNG   Mumbai    13              72000   \n",
       "1  Hyundai Creta 1.6 CRDi SX Option     Pune     8              41000   \n",
       "2                      Honda Jazz V  Chennai    12              46000   \n",
       "\n",
       "  Fuel_Type Transmission Owner_Type  Mileage  Engine   Power  Seats  Price  \n",
       "0       CNG       Manual      First    26.60   998.0   58.16    5.0   1.75  \n",
       "1    Diesel       Manual      First    19.67  1582.0  126.20    5.0  12.50  \n",
       "2    Petrol       Manual      First    18.20  1199.0   88.70    5.0   4.50  "
      ]
     },
     "execution_count": 196,
     "metadata": {},
     "output_type": "execute_result"
    }
   ],
   "source": [
    "df.head(3)"
   ]
  },
  {
   "cell_type": "code",
   "execution_count": 197,
   "id": "d3aa4825",
   "metadata": {
    "scrolled": false
   },
   "outputs": [],
   "source": [
    "# Renaming columns - Mileage, Engine, Power\n",
    "\n",
    "df.rename(columns={\"Year\":\"Years\",\"Mileage\":\"Mileage(Kmpl)\",\"Engine\":\"Engine(CC)\",\"Power\":\"Power(bhp)\"},inplace=True)"
   ]
  },
  {
   "cell_type": "code",
   "execution_count": 198,
   "id": "479d10dc",
   "metadata": {},
   "outputs": [
    {
     "data": {
      "text/html": [
       "<div>\n",
       "<style scoped>\n",
       "    .dataframe tbody tr th:only-of-type {\n",
       "        vertical-align: middle;\n",
       "    }\n",
       "\n",
       "    .dataframe tbody tr th {\n",
       "        vertical-align: top;\n",
       "    }\n",
       "\n",
       "    .dataframe thead th {\n",
       "        text-align: right;\n",
       "    }\n",
       "</style>\n",
       "<table border=\"1\" class=\"dataframe\">\n",
       "  <thead>\n",
       "    <tr style=\"text-align: right;\">\n",
       "      <th></th>\n",
       "      <th>Name</th>\n",
       "      <th>Location</th>\n",
       "      <th>Years</th>\n",
       "      <th>Kilometers_Driven</th>\n",
       "      <th>Fuel_Type</th>\n",
       "      <th>Transmission</th>\n",
       "      <th>Owner_Type</th>\n",
       "      <th>Mileage(Kmpl)</th>\n",
       "      <th>Engine(CC)</th>\n",
       "      <th>Power(bhp)</th>\n",
       "      <th>Seats</th>\n",
       "      <th>Price</th>\n",
       "    </tr>\n",
       "  </thead>\n",
       "  <tbody>\n",
       "    <tr>\n",
       "      <th>0</th>\n",
       "      <td>Maruti Wagon R LXI CNG</td>\n",
       "      <td>Mumbai</td>\n",
       "      <td>13</td>\n",
       "      <td>72000</td>\n",
       "      <td>CNG</td>\n",
       "      <td>Manual</td>\n",
       "      <td>First</td>\n",
       "      <td>26.60</td>\n",
       "      <td>998.0</td>\n",
       "      <td>58.16</td>\n",
       "      <td>5.0</td>\n",
       "      <td>1.75</td>\n",
       "    </tr>\n",
       "    <tr>\n",
       "      <th>1</th>\n",
       "      <td>Hyundai Creta 1.6 CRDi SX Option</td>\n",
       "      <td>Pune</td>\n",
       "      <td>8</td>\n",
       "      <td>41000</td>\n",
       "      <td>Diesel</td>\n",
       "      <td>Manual</td>\n",
       "      <td>First</td>\n",
       "      <td>19.67</td>\n",
       "      <td>1582.0</td>\n",
       "      <td>126.20</td>\n",
       "      <td>5.0</td>\n",
       "      <td>12.50</td>\n",
       "    </tr>\n",
       "  </tbody>\n",
       "</table>\n",
       "</div>"
      ],
      "text/plain": [
       "                               Name Location  Years  Kilometers_Driven  \\\n",
       "0            Maruti Wagon R LXI CNG   Mumbai     13              72000   \n",
       "1  Hyundai Creta 1.6 CRDi SX Option     Pune      8              41000   \n",
       "\n",
       "  Fuel_Type Transmission Owner_Type  Mileage(Kmpl)  Engine(CC)  Power(bhp)  \\\n",
       "0       CNG       Manual      First          26.60       998.0       58.16   \n",
       "1    Diesel       Manual      First          19.67      1582.0      126.20   \n",
       "\n",
       "   Seats  Price  \n",
       "0    5.0   1.75  \n",
       "1    5.0  12.50  "
      ]
     },
     "execution_count": 198,
     "metadata": {},
     "output_type": "execute_result"
    }
   ],
   "source": [
    "df.head(2)"
   ]
  },
  {
   "cell_type": "code",
   "execution_count": 199,
   "id": "e94c52aa",
   "metadata": {},
   "outputs": [
    {
     "data": {
      "text/html": [
       "<div>\n",
       "<style scoped>\n",
       "    .dataframe tbody tr th:only-of-type {\n",
       "        vertical-align: middle;\n",
       "    }\n",
       "\n",
       "    .dataframe tbody tr th {\n",
       "        vertical-align: top;\n",
       "    }\n",
       "\n",
       "    .dataframe thead th {\n",
       "        text-align: right;\n",
       "    }\n",
       "</style>\n",
       "<table border=\"1\" class=\"dataframe\">\n",
       "  <thead>\n",
       "    <tr style=\"text-align: right;\">\n",
       "      <th></th>\n",
       "      <th>0</th>\n",
       "      <th>1</th>\n",
       "      <th>2</th>\n",
       "      <th>3</th>\n",
       "      <th>4</th>\n",
       "      <th>5</th>\n",
       "      <th>6</th>\n",
       "      <th>7</th>\n",
       "      <th>8</th>\n",
       "      <th>9</th>\n",
       "    </tr>\n",
       "  </thead>\n",
       "  <tbody>\n",
       "    <tr>\n",
       "      <th>0</th>\n",
       "      <td>Maruti</td>\n",
       "      <td>Wagon</td>\n",
       "      <td>R</td>\n",
       "      <td>LXI</td>\n",
       "      <td>CNG</td>\n",
       "      <td>None</td>\n",
       "      <td>None</td>\n",
       "      <td>None</td>\n",
       "      <td>None</td>\n",
       "      <td>None</td>\n",
       "    </tr>\n",
       "    <tr>\n",
       "      <th>1</th>\n",
       "      <td>Hyundai</td>\n",
       "      <td>Creta</td>\n",
       "      <td>1.6</td>\n",
       "      <td>CRDi</td>\n",
       "      <td>SX</td>\n",
       "      <td>Option</td>\n",
       "      <td>None</td>\n",
       "      <td>None</td>\n",
       "      <td>None</td>\n",
       "      <td>None</td>\n",
       "    </tr>\n",
       "    <tr>\n",
       "      <th>2</th>\n",
       "      <td>Honda</td>\n",
       "      <td>Jazz</td>\n",
       "      <td>V</td>\n",
       "      <td>None</td>\n",
       "      <td>None</td>\n",
       "      <td>None</td>\n",
       "      <td>None</td>\n",
       "      <td>None</td>\n",
       "      <td>None</td>\n",
       "      <td>None</td>\n",
       "    </tr>\n",
       "    <tr>\n",
       "      <th>3</th>\n",
       "      <td>Maruti</td>\n",
       "      <td>Ertiga</td>\n",
       "      <td>VDI</td>\n",
       "      <td>None</td>\n",
       "      <td>None</td>\n",
       "      <td>None</td>\n",
       "      <td>None</td>\n",
       "      <td>None</td>\n",
       "      <td>None</td>\n",
       "      <td>None</td>\n",
       "    </tr>\n",
       "    <tr>\n",
       "      <th>4</th>\n",
       "      <td>Audi</td>\n",
       "      <td>A4</td>\n",
       "      <td>New</td>\n",
       "      <td>2.0</td>\n",
       "      <td>TDI</td>\n",
       "      <td>Multitronic</td>\n",
       "      <td>None</td>\n",
       "      <td>None</td>\n",
       "      <td>None</td>\n",
       "      <td>None</td>\n",
       "    </tr>\n",
       "  </tbody>\n",
       "</table>\n",
       "</div>"
      ],
      "text/plain": [
       "         0       1    2     3     4            5     6     7     8     9\n",
       "0   Maruti   Wagon    R   LXI   CNG         None  None  None  None  None\n",
       "1  Hyundai   Creta  1.6  CRDi    SX       Option  None  None  None  None\n",
       "2    Honda    Jazz    V  None  None         None  None  None  None  None\n",
       "3   Maruti  Ertiga  VDI  None  None         None  None  None  None  None\n",
       "4     Audi      A4  New   2.0   TDI  Multitronic  None  None  None  None"
      ]
     },
     "execution_count": 199,
     "metadata": {},
     "output_type": "execute_result"
    }
   ],
   "source": [
    "new_name_df= df[\"Name\"].str.split(\" \",expand= True)\n",
    "new_name_df.head()"
   ]
  },
  {
   "cell_type": "code",
   "execution_count": 200,
   "id": "96d76622",
   "metadata": {},
   "outputs": [],
   "source": [
    "#df.head()\n",
    "df['Manufacturer']=new_name_df[0]"
   ]
  },
  {
   "cell_type": "code",
   "execution_count": 201,
   "id": "19894fe6",
   "metadata": {},
   "outputs": [
    {
     "data": {
      "image/png": "[encoded data removed]",
      "text/plain": [
       "<Figure size 720x576 with 1 Axes>"
      ]
     },
     "metadata": {
      "needs_background": "light"
     },
     "output_type": "display_data"
    }
   ],
   "source": [
    "# Ploting the companies\n",
    "plt.figure(figsize = (10,8))\n",
    "plot = sns.countplot(x = 'Manufacturer', data = df )\n",
    "plt.xticks(rotation = 90)\n",
    "for p in plot.patches:\n",
    "    plot.annotate(p.get_height(), \n",
    "                        (p.get_x() + p.get_width() / 2.0, \n",
    "                         p.get_height()), \n",
    "                        ha = 'center', \n",
    "                        va = 'center', \n",
    "                        xytext = (0, 5),\n",
    "                        textcoords = 'offset points')\n",
    "\n",
    "plt.title(\"Count of Cars based on Manufacturers\",fontsize=15,style=\"italic\",fontweight=\"bold\")\n",
    "plt.xlabel(\"Manufacturer\",fontsize=20)\n",
    "plt.ylabel(\"Count of cars\",fontsize=20)\n",
    "#plt.grid(True)\n",
    "plt.show()"
   ]
  },
  {
   "cell_type": "markdown",
   "id": "b17e10e1",
   "metadata": {},
   "source": [
    "* Maximum `cars` in the dataset are by the manufacturer **Maruti**."
   ]
  },
  {
   "cell_type": "code",
   "execution_count": 202,
   "id": "3ec681ed",
   "metadata": {},
   "outputs": [
    {
     "name": "stdout",
     "output_type": "stream",
     "text": [
      "['Maruti Wagon R LXI CNG' 'Hyundai Creta 1.6 CRDi SX Option'\n",
      " 'Honda Jazz V' ... 'Ford EcoSport 1.5 Petrol Ambiente'\n",
      " 'Jeep Compass 1.4 Sport' 'Hyundai Elite i20 Magna Plus']\n",
      "['Mumbai' 'Pune' 'Chennai' 'Coimbatore' 'Hyderabad' 'Jaipur' 'Kochi'\n",
      " 'Kolkata' 'Delhi' 'Bangalore' 'Ahmedabad']\n",
      "['CNG' 'Diesel' 'Petrol' 'LPG' 'Electric']\n",
      "['Manual' 'Automatic']\n",
      "['First' 'Second' 'Fourth & Above' 'Third']\n"
     ]
    }
   ],
   "source": [
    "categorical = ['Name', 'Location','Fuel_Type', 'Transmission', 'Owner_Type']\n",
    "for i in categorical:\n",
    "    unique_classes=df[i].unique()\n",
    "    print(unique_classes)"
   ]
  },
  {
   "cell_type": "code",
   "execution_count": 203,
   "id": "1a18eb8b",
   "metadata": {
    "scrolled": true
   },
   "outputs": [
    {
     "name": "stdout",
     "output_type": "stream",
     "text": [
      "['First' 'Second' 'Fourth & Above' 'Third']\n",
      "Mahindra XUV500 W8 2WD                  0.758411\n",
      "Maruti Swift VDI                        0.675676\n",
      "Maruti Swift Dzire VDI                  0.579151\n",
      "Honda City 1.5 S MT                     0.537783\n",
      "Maruti Swift VDI BSIV                   0.510204\n",
      "                                          ...   \n",
      "Chevrolet Beat LT Option                0.013789\n",
      "Skoda Rapid 1.6 MPI AT Elegance Plus    0.013789\n",
      "Ford EcoSport 1.5 TDCi Ambiente         0.013789\n",
      "Hyundai i10 Magna 1.1 iTech SE          0.013789\n",
      "Hyundai Elite i20 Magna Plus            0.013789\n",
      "Name: Name, Length: 2041, dtype: float64\n",
      "['First' 'Second' 'Fourth & Above' 'Third']\n",
      "Mumbai        13.072256\n",
      "Hyderabad     12.079426\n",
      "Coimbatore    10.645339\n",
      "Kochi         10.645339\n",
      "Pune          10.548814\n",
      "Delhi          9.100938\n",
      "Kolkata        9.018202\n",
      "Chennai        8.149476\n",
      "Jaipur         6.880860\n",
      "Bangalore      6.067292\n",
      "Ahmedabad      3.792057\n",
      "Name: Location, dtype: float64\n",
      "['First' 'Second' 'Fourth & Above' 'Third']\n",
      "Diesel      53.116382\n",
      "Petrol      45.835632\n",
      "CNG          0.854937\n",
      "LPG          0.165472\n",
      "Electric     0.027579\n",
      "Name: Fuel_Type, dtype: float64\n",
      "['First' 'Second' 'Fourth & Above' 'Third']\n",
      "Manual       71.745725\n",
      "Automatic    28.254275\n",
      "Name: Transmission, dtype: float64\n",
      "['First' 'Second' 'Fourth & Above' 'Third']\n",
      "First             82.060121\n",
      "Second            15.885273\n",
      "Third              1.889134\n",
      "Fourth & Above     0.165472\n",
      "Name: Owner_Type, dtype: float64\n"
     ]
    }
   ],
   "source": [
    "categorical = ['Name', 'Location','Fuel_Type', 'Transmission', 'Owner_Type']\n",
    "for i in categorical:\n",
    "    print(unique_classes)\n",
    "    count=df[i].value_counts()\n",
    "    total_unique=df[i].count()\n",
    "    percentage=(count/total_unique)*100\n",
    "    print(percentage)       "
   ]
  },
  {
   "cell_type": "markdown",
   "id": "923ea4be",
   "metadata": {},
   "source": [
    "Created this loop to figure out `unique` values and their percentile"
   ]
  },
  {
   "cell_type": "code",
   "execution_count": 204,
   "id": "ca5d5d30",
   "metadata": {},
   "outputs": [
    {
     "data": {
      "image/png": "[encoded data removed]",
      "text/plain": [
       "<Figure size 864x576 with 1 Axes>"
      ]
     },
     "metadata": {
      "needs_background": "light"
     },
     "output_type": "display_data"
    }
   ],
   "source": [
    "plt.figure(figsize=(12,8))\n",
    "sns.countplot(df['Location'])\n",
    "plt.title(\"Countplot of Locations\",fontsize=15,style=\"italic\",fontweight=\"bold\")\n",
    "plt.show()"
   ]
  },
  {
   "cell_type": "markdown",
   "id": "78508e63",
   "metadata": {},
   "source": [
    "* As we can see, cars belongs to almost all the cities but `Mumbai`,`Hyderabad`,`Pune`, `Coimbatore` and `Kochi` has maximum cars available for sale."
   ]
  },
  {
   "cell_type": "code",
   "execution_count": 205,
   "id": "eb46421a",
   "metadata": {},
   "outputs": [],
   "source": [
    "df.drop(['Location','Name'],axis=1,inplace=True)"
   ]
  },
  {
   "cell_type": "code",
   "execution_count": 206,
   "id": "68d45762",
   "metadata": {},
   "outputs": [
    {
     "data": {
      "text/html": [
       "<div>\n",
       "<style scoped>\n",
       "    .dataframe tbody tr th:only-of-type {\n",
       "        vertical-align: middle;\n",
       "    }\n",
       "\n",
       "    .dataframe tbody tr th {\n",
       "        vertical-align: top;\n",
       "    }\n",
       "\n",
       "    .dataframe thead th {\n",
       "        text-align: right;\n",
       "    }\n",
       "</style>\n",
       "<table border=\"1\" class=\"dataframe\">\n",
       "  <thead>\n",
       "    <tr style=\"text-align: right;\">\n",
       "      <th></th>\n",
       "      <th>Years</th>\n",
       "      <th>Kilometers_Driven</th>\n",
       "      <th>Fuel_Type</th>\n",
       "      <th>Transmission</th>\n",
       "      <th>Owner_Type</th>\n",
       "      <th>Mileage(Kmpl)</th>\n",
       "      <th>Engine(CC)</th>\n",
       "      <th>Power(bhp)</th>\n",
       "      <th>Seats</th>\n",
       "      <th>Price</th>\n",
       "      <th>Manufacturer</th>\n",
       "    </tr>\n",
       "  </thead>\n",
       "  <tbody>\n",
       "    <tr>\n",
       "      <th>0</th>\n",
       "      <td>13</td>\n",
       "      <td>72000</td>\n",
       "      <td>CNG</td>\n",
       "      <td>Manual</td>\n",
       "      <td>First</td>\n",
       "      <td>26.60</td>\n",
       "      <td>998.0</td>\n",
       "      <td>58.16</td>\n",
       "      <td>5.0</td>\n",
       "      <td>1.75</td>\n",
       "      <td>Maruti</td>\n",
       "    </tr>\n",
       "    <tr>\n",
       "      <th>1</th>\n",
       "      <td>8</td>\n",
       "      <td>41000</td>\n",
       "      <td>Diesel</td>\n",
       "      <td>Manual</td>\n",
       "      <td>First</td>\n",
       "      <td>19.67</td>\n",
       "      <td>1582.0</td>\n",
       "      <td>126.20</td>\n",
       "      <td>5.0</td>\n",
       "      <td>12.50</td>\n",
       "      <td>Hyundai</td>\n",
       "    </tr>\n",
       "  </tbody>\n",
       "</table>\n",
       "</div>"
      ],
      "text/plain": [
       "   Years  Kilometers_Driven Fuel_Type Transmission Owner_Type  Mileage(Kmpl)  \\\n",
       "0     13              72000       CNG       Manual      First          26.60   \n",
       "1      8              41000    Diesel       Manual      First          19.67   \n",
       "\n",
       "   Engine(CC)  Power(bhp)  Seats  Price Manufacturer  \n",
       "0       998.0       58.16    5.0   1.75       Maruti  \n",
       "1      1582.0      126.20    5.0  12.50      Hyundai  "
      ]
     },
     "execution_count": 206,
     "metadata": {},
     "output_type": "execute_result"
    }
   ],
   "source": [
    "df.head(2)"
   ]
  },
  {
   "cell_type": "markdown",
   "id": "bb8b5d01",
   "metadata": {},
   "source": [
    "### Statistical summary"
   ]
  },
  {
   "cell_type": "code",
   "execution_count": 207,
   "id": "ec9c13c9",
   "metadata": {},
   "outputs": [
    {
     "data": {
      "text/html": [
       "<div>\n",
       "<style scoped>\n",
       "    .dataframe tbody tr th:only-of-type {\n",
       "        vertical-align: middle;\n",
       "    }\n",
       "\n",
       "    .dataframe tbody tr th {\n",
       "        vertical-align: top;\n",
       "    }\n",
       "\n",
       "    .dataframe thead th {\n",
       "        text-align: right;\n",
       "    }\n",
       "</style>\n",
       "<table border=\"1\" class=\"dataframe\">\n",
       "  <thead>\n",
       "    <tr style=\"text-align: right;\">\n",
       "      <th></th>\n",
       "      <th>Years</th>\n",
       "      <th>Kilometers_Driven</th>\n",
       "      <th>Mileage(Kmpl)</th>\n",
       "      <th>Engine(CC)</th>\n",
       "      <th>Power(bhp)</th>\n",
       "      <th>Seats</th>\n",
       "      <th>Price</th>\n",
       "    </tr>\n",
       "  </thead>\n",
       "  <tbody>\n",
       "    <tr>\n",
       "      <th>count</th>\n",
       "      <td>7252.000000</td>\n",
       "      <td>7.252000e+03</td>\n",
       "      <td>7250.000000</td>\n",
       "      <td>7206.000000</td>\n",
       "      <td>7077.000000</td>\n",
       "      <td>7199.000000</td>\n",
       "      <td>6019.000000</td>\n",
       "    </tr>\n",
       "    <tr>\n",
       "      <th>mean</th>\n",
       "      <td>9.634170</td>\n",
       "      <td>5.869999e+04</td>\n",
       "      <td>18.141738</td>\n",
       "      <td>1616.590064</td>\n",
       "      <td>112.764474</td>\n",
       "      <td>5.279761</td>\n",
       "      <td>9.479468</td>\n",
       "    </tr>\n",
       "    <tr>\n",
       "      <th>std</th>\n",
       "      <td>3.254405</td>\n",
       "      <td>8.443351e+04</td>\n",
       "      <td>4.562492</td>\n",
       "      <td>595.324779</td>\n",
       "      <td>53.497297</td>\n",
       "      <td>0.811709</td>\n",
       "      <td>11.187917</td>\n",
       "    </tr>\n",
       "    <tr>\n",
       "      <th>min</th>\n",
       "      <td>4.000000</td>\n",
       "      <td>1.710000e+02</td>\n",
       "      <td>0.000000</td>\n",
       "      <td>72.000000</td>\n",
       "      <td>34.200000</td>\n",
       "      <td>0.000000</td>\n",
       "      <td>0.440000</td>\n",
       "    </tr>\n",
       "    <tr>\n",
       "      <th>25%</th>\n",
       "      <td>7.000000</td>\n",
       "      <td>3.400000e+04</td>\n",
       "      <td>15.170000</td>\n",
       "      <td>1198.000000</td>\n",
       "      <td>75.000000</td>\n",
       "      <td>5.000000</td>\n",
       "      <td>3.500000</td>\n",
       "    </tr>\n",
       "    <tr>\n",
       "      <th>50%</th>\n",
       "      <td>9.000000</td>\n",
       "      <td>5.342900e+04</td>\n",
       "      <td>18.160000</td>\n",
       "      <td>1493.000000</td>\n",
       "      <td>94.000000</td>\n",
       "      <td>5.000000</td>\n",
       "      <td>5.640000</td>\n",
       "    </tr>\n",
       "    <tr>\n",
       "      <th>75%</th>\n",
       "      <td>12.000000</td>\n",
       "      <td>7.300000e+04</td>\n",
       "      <td>21.100000</td>\n",
       "      <td>1968.000000</td>\n",
       "      <td>138.100000</td>\n",
       "      <td>5.000000</td>\n",
       "      <td>9.950000</td>\n",
       "    </tr>\n",
       "    <tr>\n",
       "      <th>max</th>\n",
       "      <td>27.000000</td>\n",
       "      <td>6.500000e+06</td>\n",
       "      <td>33.540000</td>\n",
       "      <td>5998.000000</td>\n",
       "      <td>616.000000</td>\n",
       "      <td>10.000000</td>\n",
       "      <td>160.000000</td>\n",
       "    </tr>\n",
       "  </tbody>\n",
       "</table>\n",
       "</div>"
      ],
      "text/plain": [
       "             Years  Kilometers_Driven  Mileage(Kmpl)   Engine(CC)  \\\n",
       "count  7252.000000       7.252000e+03    7250.000000  7206.000000   \n",
       "mean      9.634170       5.869999e+04      18.141738  1616.590064   \n",
       "std       3.254405       8.443351e+04       4.562492   595.324779   \n",
       "min       4.000000       1.710000e+02       0.000000    72.000000   \n",
       "25%       7.000000       3.400000e+04      15.170000  1198.000000   \n",
       "50%       9.000000       5.342900e+04      18.160000  1493.000000   \n",
       "75%      12.000000       7.300000e+04      21.100000  1968.000000   \n",
       "max      27.000000       6.500000e+06      33.540000  5998.000000   \n",
       "\n",
       "        Power(bhp)        Seats        Price  \n",
       "count  7077.000000  7199.000000  6019.000000  \n",
       "mean    112.764474     5.279761     9.479468  \n",
       "std      53.497297     0.811709    11.187917  \n",
       "min      34.200000     0.000000     0.440000  \n",
       "25%      75.000000     5.000000     3.500000  \n",
       "50%      94.000000     5.000000     5.640000  \n",
       "75%     138.100000     5.000000     9.950000  \n",
       "max     616.000000    10.000000   160.000000  "
      ]
     },
     "execution_count": 207,
     "metadata": {},
     "output_type": "execute_result"
    }
   ],
   "source": [
    "# Now cheaking the statistical info of the dataset\n",
    "\n",
    "df. "
   ]
  },
  {
   "cell_type": "code",
   "execution_count": 208,
   "id": "0179a104",
   "metadata": {
    "scrolled": true
   },
   "outputs": [
    {
     "data": {
      "text/plain": [
       "<Figure size 1440x1440 with 0 Axes>"
      ]
     },
     "metadata": {},
     "output_type": "display_data"
    },
    {
     "data": {
      "image/png": "[encoded data removed]",
      "text/plain": [
       "<Figure size 900x180 with 5 Axes>"
      ]
     },
     "metadata": {
      "needs_background": "light"
     },
     "output_type": "display_data"
    }
   ],
   "source": [
    "# Plot relationship between features and target variable\n",
    "\n",
    "plt.figure(figsize=(20,20))\n",
    "sns.pairplot(df, x_vars=['Years', 'Kilometers_Driven', 'Mileage(Kmpl)', 'Engine(CC)', 'Power(bhp)'], y_vars='Price')\n",
    "plt.show()"
   ]
  },
  {
   "cell_type": "markdown",
   "id": "a64a7478",
   "metadata": {},
   "source": [
    "* As we can see from the above plot, Price is significantly increasing with respect to `Engine(CC)` and `Power(bhp)`. \n",
    "And `Price` is gradually increasing with `Year`,it is because of Brand Name of the car might be affecting the price."
   ]
  },
  {
   "cell_type": "code",
   "execution_count": 105,
   "id": "2962a4d2",
   "metadata": {},
   "outputs": [
    {
     "data": {
      "image/png": "[encoded data removed]",
      "text/plain": [
       "<Figure size 864x576 with 2 Axes>"
      ]
     },
     "metadata": {
      "needs_background": "light"
     },
     "output_type": "display_data"
    }
   ],
   "source": [
    "# Plot heatmap for correlation matrix\n",
    "\n",
    "corr = df.corr()\n",
    "plt.figure(figsize=(12,8))\n",
    "sns.heatmap(corr, annot=True, cmap='RdYlGn')\n",
    "plt.title('Correlation Matrix',fontsize=20,alpha=0.5)\n",
    "plt.show()"
   ]
  },
  {
   "cell_type": "markdown",
   "id": "96d008f0",
   "metadata": {},
   "source": [
    "* As we can see Engine and Power are highly co-related with each other. Also Engine, Power has a decent co-relation with the response variable,i.e, `Price`"
   ]
  },
  {
   "cell_type": "code",
   "execution_count": 106,
   "id": "72861950",
   "metadata": {},
   "outputs": [
    {
     "data": {
      "image/png": "[encoded data removed]",
      "text/plain": [
       "<Figure size 720x432 with 1 Axes>"
      ]
     },
     "metadata": {
      "needs_background": "light"
     },
     "output_type": "display_data"
    }
   ],
   "source": [
    "from matplotlib import style\n",
    "plt.figure(figsize=(10,6))\n",
    "with plt.style.context(\"fivethirtyeight\"):\n",
    "    plt.scatter(df[\"Engine(CC)\"],df[\"Power(bhp)\"],s=500,ec=\"g\",color=\"yellow\")\n",
    "plt.grid(True)\n",
    "plt.xlabel(\"Engine(CC)\")\n",
    "plt.ylabel(\"Power(bhp)\")\n",
    "plt.show()"
   ]
  },
  {
   "cell_type": "code",
   "execution_count": 107,
   "id": "38930095",
   "metadata": {},
   "outputs": [
    {
     "data": {
      "image/png": "[encoded data removed]",
      "text/plain": [
       "<Figure size 576x288 with 2 Axes>"
      ]
     },
     "metadata": {
      "needs_background": "light"
     },
     "output_type": "display_data"
    }
   ],
   "source": [
    "sns.pairplot(df, x_vars=['Engine(CC)', 'Power(bhp)'], y_vars='Price',size=4,kind=\"reg\")\n",
    "plt.show()"
   ]
  },
  {
   "cell_type": "markdown",
   "id": "24949627",
   "metadata": {},
   "source": [
    "### Detecting and Treating Outliers"
   ]
  },
  {
   "cell_type": "code",
   "execution_count": 109,
   "id": "5dc690c2",
   "metadata": {},
   "outputs": [
    {
     "data": {
      "text/plain": [
       "Years                   0\n",
       "Kilometers_Driven       0\n",
       "Fuel_Type               0\n",
       "Transmission            0\n",
       "Owner_Type              0\n",
       "Mileage(Kmpl)           2\n",
       "Engine(CC)             46\n",
       "Power(bhp)            175\n",
       "Seats                  53\n",
       "Price                1233\n",
       "Manufacturer            0\n",
       "dtype: int64"
      ]
     },
     "execution_count": 109,
     "metadata": {},
     "output_type": "execute_result"
    }
   ],
   "source": [
    "df.isna().sum()"
   ]
  },
  {
   "cell_type": "code",
   "execution_count": 110,
   "id": "40b02381",
   "metadata": {},
   "outputs": [
    {
     "data": {
      "text/html": [
       "<div>\n",
       "<style scoped>\n",
       "    .dataframe tbody tr th:only-of-type {\n",
       "        vertical-align: middle;\n",
       "    }\n",
       "\n",
       "    .dataframe tbody tr th {\n",
       "        vertical-align: top;\n",
       "    }\n",
       "\n",
       "    .dataframe thead th {\n",
       "        text-align: right;\n",
       "    }\n",
       "</style>\n",
       "<table border=\"1\" class=\"dataframe\">\n",
       "  <thead>\n",
       "    <tr style=\"text-align: right;\">\n",
       "      <th></th>\n",
       "      <th>Years</th>\n",
       "      <th>Kilometers_Driven</th>\n",
       "      <th>Mileage(Kmpl)</th>\n",
       "      <th>Engine(CC)</th>\n",
       "      <th>Power(bhp)</th>\n",
       "      <th>Seats</th>\n",
       "      <th>Price</th>\n",
       "    </tr>\n",
       "  </thead>\n",
       "  <tbody>\n",
       "    <tr>\n",
       "      <th>count</th>\n",
       "      <td>7252.000000</td>\n",
       "      <td>7.252000e+03</td>\n",
       "      <td>7250.000000</td>\n",
       "      <td>7206.000000</td>\n",
       "      <td>7077.000000</td>\n",
       "      <td>7199.000000</td>\n",
       "      <td>6019.000000</td>\n",
       "    </tr>\n",
       "    <tr>\n",
       "      <th>mean</th>\n",
       "      <td>9.634170</td>\n",
       "      <td>5.869999e+04</td>\n",
       "      <td>18.141738</td>\n",
       "      <td>1616.590064</td>\n",
       "      <td>112.764474</td>\n",
       "      <td>5.279761</td>\n",
       "      <td>9.479468</td>\n",
       "    </tr>\n",
       "    <tr>\n",
       "      <th>std</th>\n",
       "      <td>3.254405</td>\n",
       "      <td>8.443351e+04</td>\n",
       "      <td>4.562492</td>\n",
       "      <td>595.324779</td>\n",
       "      <td>53.497297</td>\n",
       "      <td>0.811709</td>\n",
       "      <td>11.187917</td>\n",
       "    </tr>\n",
       "    <tr>\n",
       "      <th>min</th>\n",
       "      <td>4.000000</td>\n",
       "      <td>1.710000e+02</td>\n",
       "      <td>0.000000</td>\n",
       "      <td>72.000000</td>\n",
       "      <td>34.200000</td>\n",
       "      <td>0.000000</td>\n",
       "      <td>0.440000</td>\n",
       "    </tr>\n",
       "    <tr>\n",
       "      <th>25%</th>\n",
       "      <td>7.000000</td>\n",
       "      <td>3.400000e+04</td>\n",
       "      <td>15.170000</td>\n",
       "      <td>1198.000000</td>\n",
       "      <td>75.000000</td>\n",
       "      <td>5.000000</td>\n",
       "      <td>3.500000</td>\n",
       "    </tr>\n",
       "    <tr>\n",
       "      <th>50%</th>\n",
       "      <td>9.000000</td>\n",
       "      <td>5.342900e+04</td>\n",
       "      <td>18.160000</td>\n",
       "      <td>1493.000000</td>\n",
       "      <td>94.000000</td>\n",
       "      <td>5.000000</td>\n",
       "      <td>5.640000</td>\n",
       "    </tr>\n",
       "    <tr>\n",
       "      <th>75%</th>\n",
       "      <td>12.000000</td>\n",
       "      <td>7.300000e+04</td>\n",
       "      <td>21.100000</td>\n",
       "      <td>1968.000000</td>\n",
       "      <td>138.100000</td>\n",
       "      <td>5.000000</td>\n",
       "      <td>9.950000</td>\n",
       "    </tr>\n",
       "    <tr>\n",
       "      <th>90%</th>\n",
       "      <td>14.000000</td>\n",
       "      <td>9.742290e+04</td>\n",
       "      <td>24.000000</td>\n",
       "      <td>2494.000000</td>\n",
       "      <td>184.000000</td>\n",
       "      <td>7.000000</td>\n",
       "      <td>22.500000</td>\n",
       "    </tr>\n",
       "    <tr>\n",
       "      <th>95%</th>\n",
       "      <td>16.000000</td>\n",
       "      <td>1.202466e+05</td>\n",
       "      <td>25.440000</td>\n",
       "      <td>2982.000000</td>\n",
       "      <td>204.000000</td>\n",
       "      <td>7.000000</td>\n",
       "      <td>32.446000</td>\n",
       "    </tr>\n",
       "    <tr>\n",
       "      <th>max</th>\n",
       "      <td>27.000000</td>\n",
       "      <td>6.500000e+06</td>\n",
       "      <td>33.540000</td>\n",
       "      <td>5998.000000</td>\n",
       "      <td>616.000000</td>\n",
       "      <td>10.000000</td>\n",
       "      <td>160.000000</td>\n",
       "    </tr>\n",
       "  </tbody>\n",
       "</table>\n",
       "</div>"
      ],
      "text/plain": [
       "             Years  Kilometers_Driven  Mileage(Kmpl)   Engine(CC)  \\\n",
       "count  7252.000000       7.252000e+03    7250.000000  7206.000000   \n",
       "mean      9.634170       5.869999e+04      18.141738  1616.590064   \n",
       "std       3.254405       8.443351e+04       4.562492   595.324779   \n",
       "min       4.000000       1.710000e+02       0.000000    72.000000   \n",
       "25%       7.000000       3.400000e+04      15.170000  1198.000000   \n",
       "50%       9.000000       5.342900e+04      18.160000  1493.000000   \n",
       "75%      12.000000       7.300000e+04      21.100000  1968.000000   \n",
       "90%      14.000000       9.742290e+04      24.000000  2494.000000   \n",
       "95%      16.000000       1.202466e+05      25.440000  2982.000000   \n",
       "max      27.000000       6.500000e+06      33.540000  5998.000000   \n",
       "\n",
       "        Power(bhp)        Seats        Price  \n",
       "count  7077.000000  7199.000000  6019.000000  \n",
       "mean    112.764474     5.279761     9.479468  \n",
       "std      53.497297     0.811709    11.187917  \n",
       "min      34.200000     0.000000     0.440000  \n",
       "25%      75.000000     5.000000     3.500000  \n",
       "50%      94.000000     5.000000     5.640000  \n",
       "75%     138.100000     5.000000     9.950000  \n",
       "90%     184.000000     7.000000    22.500000  \n",
       "95%     204.000000     7.000000    32.446000  \n",
       "max     616.000000    10.000000   160.000000  "
      ]
     },
     "execution_count": 110,
     "metadata": {},
     "output_type": "execute_result"
    }
   ],
   "source": [
    "df.describe(percentiles=[0.25, 0.50, 0.75, 0.90, 0.95])"
   ]
  },
  {
   "cell_type": "markdown",
   "id": "115dcde1",
   "metadata": {},
   "source": [
    "#### Visualising Continuous Variables\n",
    "\n",
    "There are a few continuous variables. Making a boxplot for some of these variables."
   ]
  },
  {
   "cell_type": "code",
   "execution_count": 111,
   "id": "29fec988",
   "metadata": {},
   "outputs": [
    {
     "data": {
      "image/png": "[encoded data removed]",
      "text/plain": [
       "<Figure size 1296x864 with 7 Axes>"
      ]
     },
     "metadata": {
      "needs_background": "light"
     },
     "output_type": "display_data"
    }
   ],
   "source": [
    "plt.figure(figsize=(18,12))\n",
    "plt.subplot(3,3,1)\n",
    "sns.boxplot(data=df,x=\"Mileage(Kmpl)\")\n",
    "plt.subplot(3,3,2)\n",
    "sns.boxplot(data=df,x=\"Engine(CC)\")\n",
    "plt.subplot(3,3,3)\n",
    "sns.boxplot(data=df,x=\"Power(bhp)\")\n",
    "plt.subplot(3,3,4)\n",
    "sns.boxplot(data=df,x=\"Seats\")\n",
    "plt.subplot(3,3,5)\n",
    "sns.boxplot(data=df,x=\"Price\")\n",
    "plt.subplot(3,3,6)\n",
    "sns.boxplot(data=df,x=\"Kilometers_Driven\")\n",
    "plt.subplot(3,3,7)\n",
    "sns.boxplot(data=df,x=\"Years\")\n",
    "plt.show()"
   ]
  },
  {
   "cell_type": "markdown",
   "id": "79e86d7a",
   "metadata": {},
   "source": [
    " As we can see from statistical information of the dataset and the boxplot above, some feature variables have outliers. \n",
    " `Outliers` are the values within a dataset that vary greatly from other datapoints.\n",
    " Following are Outliers -- \n",
    "* **Kilometers_Driven**: Other datapoints are gradually increasing but one datapoint is far away from others. \n",
    "    So it might be a mistake by chance.\n",
    "* **Mileage(Kmpl)**: Since any car have some mileage, 'Zero' mileage is not possible.\n",
    "* **Engine(CC)**: Engine of 72 CC for car is not possible.\n",
    "* **Power(bhp)**: Power of 34.2 bhp is not possible to drive any car since it is too low.\n",
    "\n",
    "**Note** -- For **Seats** variable, since 'Zero' seat of any car is not possible but still we are not treating this outlier since treating will \n",
    "eliminate `two seats`, `three seats` and `four seats` data."
   ]
  },
  {
   "cell_type": "code",
   "execution_count": 209,
   "id": "7681eb22",
   "metadata": {},
   "outputs": [],
   "source": [
    "#Treating Outliers for Mileage(Kmpl), Engine(CC), Power(bhp)\n",
    "\n",
    "varlist=[\"Mileage(Kmpl)\", \"Engine(CC)\", \"Power(bhp)\"]\n",
    "for i in varlist:\n",
    "    per25=df[i].quantile(0.25)\n",
    "    per75=df[i].quantile(0.75)\n",
    "    IQR=per75-per25\n",
    "    lower_limit=per25-1.5*IQR\n",
    "    upper_limit=per75+1.5*IQR\n",
    "    df=df[df[i]>lower_limit]"
   ]
  },
  {
   "cell_type": "code",
   "execution_count": 210,
   "id": "360dd6bc",
   "metadata": {},
   "outputs": [],
   "source": [
    "#Treating Outliers for Kilometers_Driven\n",
    "\n",
    "per25=df[\"Kilometers_Driven\"].quantile(0.25)\n",
    "per75=df[\"Kilometers_Driven\"].quantile(0.75)\n",
    "IQR=per75-per25\n",
    "lower_limit=per25-1.5*IQR\n",
    "upper_limit=per75+1.5*IQR\n",
    "df=df[df[\"Kilometers_Driven\"]<upper_limit]"
   ]
  },
  {
   "cell_type": "code",
   "execution_count": 114,
   "id": "bfd2bc3b",
   "metadata": {},
   "outputs": [
    {
     "data": {
      "image/png": "[encoded data removed]",
      "text/plain": [
       "<Figure size 1080x720 with 4 Axes>"
      ]
     },
     "metadata": {
      "needs_background": "light"
     },
     "output_type": "display_data"
    }
   ],
   "source": [
    "plt.figure(figsize=(15,10))\n",
    "plt.subplot(2,3,1)\n",
    "sns.boxplot(data=df,x=\"Mileage(Kmpl)\",color=\"limegreen\")\n",
    "plt.subplot(2,3,2)\n",
    "sns.boxplot(data=df,x=\"Engine(CC)\",color=\"limegreen\")\n",
    "plt.subplot(2,3,3)\n",
    "sns.boxplot(data=df,x=\"Power(bhp)\",color=\"limegreen\")\n",
    "plt.subplot(2,3,4)\n",
    "sns.boxplot(data=df,x=\"Kilometers_Driven\",color=\"limegreen\")\n",
    "plt.show()"
   ]
  },
  {
   "cell_type": "code",
   "execution_count": 115,
   "id": "4550bc57",
   "metadata": {},
   "outputs": [
    {
     "data": {
      "image/png": "[encoded data removed]",
      "text/plain": [
       "<Figure size 1440x576 with 2 Axes>"
      ]
     },
     "metadata": {
      "needs_background": "light"
     },
     "output_type": "display_data"
    }
   ],
   "source": [
    "plt.figure(figsize=(20,8))\n",
    "plt.subplot(1,2,1)\n",
    "sns.boxplot(x='Seats', y='Price', data=df)\n",
    "plt.xlabel('Seats',fontsize=20)\n",
    "plt.ylabel('Price',fontsize=20)\n",
    "plt.title('Seats vs Price',fontsize=20)\n",
    "plt.grid()\n",
    "plt.subplot(1,2,2)\n",
    "sns.barplot(x='Seats', y='Price', data=df,ci=None)\n",
    "plt.xlabel('Seats',fontsize=20)\n",
    "plt.ylabel('Price',fontsize=20)\n",
    "plt.title('Seats vs Price',fontsize=20)\n",
    "plt.grid()\n",
    "plt.show()"
   ]
  },
  {
   "cell_type": "code",
   "execution_count": 92,
   "id": "b53dbd30",
   "metadata": {},
   "outputs": [
    {
     "data": {
      "image/png": "[encoded data removed]",
      "text/plain": [
       "<Figure size 1440x576 with 1 Axes>"
      ]
     },
     "metadata": {
      "needs_background": "light"
     },
     "output_type": "display_data"
    }
   ],
   "source": [
    "plt.figure(figsize=(20,8))\n",
    "sns.barplot(x='Kilometers_Driven', y='Price', data=df)\n",
    "plt.xlabel('Kilometers_Driven',fontsize=20)\n",
    "plt.ylabel('Price',fontsize=20)\n",
    "plt.title('Kilometers_Driven vs Price',fontsize=20)\n",
    "plt.grid(True)\n",
    "plt.show()"
   ]
  },
  {
   "cell_type": "code",
   "execution_count": 43,
   "id": "d8f1ca8a",
   "metadata": {},
   "outputs": [
    {
     "data": {
      "image/png": "[encoded data removed]",
      "text/plain": [
       "<Figure size 1440x576 with 2 Axes>"
      ]
     },
     "metadata": {
      "needs_background": "light"
     },
     "output_type": "display_data"
    }
   ],
   "source": [
    "plt.figure(figsize=(20,8))\n",
    "plt.subplot(1,2,1)\n",
    "sns.boxplot(x='Years', y='Price', data=df)\n",
    "plt.xlabel('Years',fontsize=20)\n",
    "plt.ylabel('Price',fontsize=20)\n",
    "plt.title('Years vs Price',fontsize=20)\n",
    "plt.grid()\n",
    "plt.subplot(1,2,2)\n",
    "sns.barplot(x='Years', y='Price', data=df,ci=None)\n",
    "plt.xlabel('Years',fontsize=20)\n",
    "plt.ylabel('Price',fontsize=20)\n",
    "plt.title('Years vs Price',fontsize=20)\n",
    "plt.grid()\n",
    "plt.show()"
   ]
  },
  {
   "cell_type": "markdown",
   "id": "14c15c06",
   "metadata": {},
   "source": [
    "#### Visualising Categorical Variables\n",
    "\n",
    "There are a few categorical variables. Making a barplot for some of these variables."
   ]
  },
  {
   "cell_type": "code",
   "execution_count": 44,
   "id": "ac834c3f",
   "metadata": {},
   "outputs": [
    {
     "data": {
      "image/png": "[encoded data removed]",
      "text/plain": [
       "<Figure size 1440x1440 with 3 Axes>"
      ]
     },
     "metadata": {
      "needs_background": "light"
     },
     "output_type": "display_data"
    }
   ],
   "source": [
    "# Ploted countplot for categorical features\n",
    "\n",
    "plt.figure(figsize=(20,20))\n",
    "plt.subplot(3,3,1)\n",
    "sns.countplot(df['Fuel_Type'])\n",
    "plt.title(\"Countplot of Fuel Type\",fontsize=20)\n",
    "plt.subplot(3,3,2)\n",
    "sns.countplot(df['Transmission'])\n",
    "plt.title(\"Countplot of Transmission\",fontsize=20)\n",
    "plt.subplot(3,3,3)\n",
    "sns.countplot(df['Owner_Type'])\n",
    "plt.title(\"Countplot of 'Owner type'\",fontsize=20)\n",
    "plt.show()"
   ]
  },
  {
   "cell_type": "markdown",
   "id": "116ae5b9",
   "metadata": {},
   "source": [
    "As we can see from the above plots, \n",
    "* Most of the cars are of `Diesel` and `Petrol` fuel types.\n",
    "* Moreover `Manual` transmission cars are the most.\n",
    "* And `First Owner` type cars(or we can First Hand cars) are the maximum."
   ]
  },
  {
   "cell_type": "code",
   "execution_count": 45,
   "id": "9f2fdcc5",
   "metadata": {},
   "outputs": [
    {
     "data": {
      "image/png": "[encoded data removed]",
      "text/plain": [
       "<Figure size 1440x1080 with 3 Axes>"
      ]
     },
     "metadata": {
      "needs_background": "light"
     },
     "output_type": "display_data"
    }
   ],
   "source": [
    "# Ploted barplot plot for categorical features\n",
    "\n",
    "plt.figure(figsize=(20,15))\n",
    "plt.subplot(3,3,1)\n",
    "sns.barplot(x='Fuel_Type', y='Price', data=df,ci=None)\n",
    "plt.xlabel('Fuel Type',fontsize=20)\n",
    "plt.ylabel('Price',fontsize=20)\n",
    "plt.title('Fuel Type vs Price',fontsize=20)\n",
    "plt.grid()\n",
    "plt.subplot(3,3,2)\n",
    "sns.barplot(x='Transmission', y='Price', data=df,ci=None)\n",
    "plt.xlabel('Transmission',fontsize=20)\n",
    "plt.ylabel('Price',fontsize=20)\n",
    "plt.title('Transmission vs Price',fontsize=20)\n",
    "plt.grid(True)\n",
    "plt.subplot(3,3,3)\n",
    "sns.barplot(x='Owner_Type', y='Price', data=df,ci=None)\n",
    "plt.xlabel('Owner Type',fontsize=20)\n",
    "plt.ylabel('Price',fontsize=20)\n",
    "plt.title('Owner Type vs Price',fontsize=20)\n",
    "plt.grid()\n",
    "plt.show()"
   ]
  },
  {
   "cell_type": "markdown",
   "id": "4171dc30",
   "metadata": {},
   "source": [
    "From the plot we can conclude that,\n",
    "* `Diesel` type cars have higher price as compared to CNG, Petrol and LPG.\n",
    "* Moreover `Automatic Transmission` cars have higher price as compared to Manual ones.\n",
    "* And Price of `First Owner` type cars is high as compared to remaining ones."
   ]
  },
  {
   "cell_type": "code",
   "execution_count": 46,
   "id": "45e8cdad",
   "metadata": {},
   "outputs": [
    {
     "data": {
      "image/png": "[encoded data removed]",
      "text/plain": [
       "<Figure size 504x288 with 1 Axes>"
      ]
     },
     "metadata": {
      "needs_background": "light"
     },
     "output_type": "display_data"
    }
   ],
   "source": [
    "plt.figure(figsize = (7, 4))\n",
    "sns.barplot(x = 'Fuel_Type', y = 'Price', hue = 'Transmission', data = df,ci=None)\n",
    "plt.grid(True)\n",
    "plt.show()"
   ]
  },
  {
   "cell_type": "markdown",
   "id": "4ab430fb",
   "metadata": {},
   "source": [
    "* As we can see, cars of `Diesel` and `Automatic` types are of higher price."
   ]
  },
  {
   "cell_type": "markdown",
   "id": "69ab2d85",
   "metadata": {},
   "source": [
    "### Treating Null Values"
   ]
  },
  {
   "cell_type": "code",
   "execution_count": 211,
   "id": "8bf12d1f",
   "metadata": {},
   "outputs": [
    {
     "data": {
      "text/plain": [
       "(6795, 11)"
      ]
     },
     "execution_count": 211,
     "metadata": {},
     "output_type": "execute_result"
    }
   ],
   "source": [
    "# Checking shape after treating outliers\n",
    "\n",
    "df.shape"
   ]
  },
  {
   "cell_type": "code",
   "execution_count": 212,
   "id": "c9b3812f",
   "metadata": {},
   "outputs": [
    {
     "data": {
      "text/plain": [
       "Years                   0\n",
       "Kilometers_Driven       0\n",
       "Fuel_Type               0\n",
       "Transmission            0\n",
       "Owner_Type              0\n",
       "Mileage(Kmpl)           0\n",
       "Engine(CC)              0\n",
       "Power(bhp)              0\n",
       "Seats                   1\n",
       "Price                1143\n",
       "Manufacturer            0\n",
       "dtype: int64"
      ]
     },
     "execution_count": 212,
     "metadata": {},
     "output_type": "execute_result"
    }
   ],
   "source": [
    "# Checking null value after treating outliers\n",
    "\n",
    "df.isna().sum()"
   ]
  },
  {
   "cell_type": "code",
   "execution_count": 213,
   "id": "85a0afdd",
   "metadata": {},
   "outputs": [],
   "source": [
    "df.fillna({\"Price\":df[\"Price\"].mean()},inplace=True)"
   ]
  },
  {
   "cell_type": "markdown",
   "id": "2ac8de43",
   "metadata": {},
   "source": [
    "* Here we are treating the `null values` of **Price** column, i.e, `Response variable` with **Mean** since it might contains outliers."
   ]
  },
  {
   "cell_type": "code",
   "execution_count": 214,
   "id": "8253329f",
   "metadata": {},
   "outputs": [],
   "source": [
    "df.dropna(subset=\"Seats\",inplace=True)"
   ]
  },
  {
   "cell_type": "markdown",
   "id": "53b97a6d",
   "metadata": {},
   "source": [
    "* Here we are dropping row containing `null values` in **Seats** variable because there is only one null value out of 6795 entries."
   ]
  },
  {
   "cell_type": "code",
   "execution_count": 215,
   "id": "05d127d3",
   "metadata": {},
   "outputs": [
    {
     "data": {
      "text/plain": [
       "Years                0\n",
       "Kilometers_Driven    0\n",
       "Fuel_Type            0\n",
       "Transmission         0\n",
       "Owner_Type           0\n",
       "Mileage(Kmpl)        0\n",
       "Engine(CC)           0\n",
       "Power(bhp)           0\n",
       "Seats                0\n",
       "Price                0\n",
       "Manufacturer         0\n",
       "dtype: int64"
      ]
     },
     "execution_count": 215,
     "metadata": {},
     "output_type": "execute_result"
    }
   ],
   "source": [
    "# Checking null values after treating null values\n",
    "df.isna().sum()"
   ]
  },
  {
   "cell_type": "code",
   "execution_count": 216,
   "id": "34bf09fb",
   "metadata": {},
   "outputs": [
    {
     "data": {
      "text/plain": [
       "(6794, 11)"
      ]
     },
     "execution_count": 216,
     "metadata": {},
     "output_type": "execute_result"
    }
   ],
   "source": [
    "df.shape"
   ]
  },
  {
   "cell_type": "markdown",
   "id": "8315c51d",
   "metadata": {},
   "source": [
    "* As we can see there is no null value in our dataset."
   ]
  },
  {
   "cell_type": "code",
   "execution_count": 217,
   "id": "59761f78",
   "metadata": {},
   "outputs": [],
   "source": [
    "df['Mileage(Kmpl)'] = df['Mileage(Kmpl)'].astype(float)\n",
    "df['Engine(CC)'] = df['Engine(CC)'].astype(float)"
   ]
  },
  {
   "cell_type": "code",
   "execution_count": 218,
   "id": "35f9717b",
   "metadata": {},
   "outputs": [],
   "source": [
    "df['Power(bhp)'] = df['Power(bhp)'].astype(float)"
   ]
  },
  {
   "cell_type": "markdown",
   "id": "2464904d",
   "metadata": {},
   "source": [
    "### Data Tarnsformation"
   ]
  },
  {
   "cell_type": "code",
   "execution_count": 219,
   "id": "913592dc",
   "metadata": {},
   "outputs": [],
   "source": [
    "col_names=[\"Transmission\"]\n",
    "def binarymap(x):\n",
    "    return x.map({\"Manual\":0,\"Automatic\":1})\n",
    "\n",
    "df[col_names]=df[col_names].apply(binarymap)"
   ]
  },
  {
   "cell_type": "markdown",
   "id": "1f625006",
   "metadata": {},
   "source": [
    "* Here we are doing **Label Encoding** of `Transmission` column, i.e, transforming `Manual` to **0** and `Automatic` to **1**."
   ]
  },
  {
   "cell_type": "code",
   "execution_count": 220,
   "id": "730ff570",
   "metadata": {},
   "outputs": [
    {
     "data": {
      "text/html": [
       "<div>\n",
       "<style scoped>\n",
       "    .dataframe tbody tr th:only-of-type {\n",
       "        vertical-align: middle;\n",
       "    }\n",
       "\n",
       "    .dataframe tbody tr th {\n",
       "        vertical-align: top;\n",
       "    }\n",
       "\n",
       "    .dataframe thead th {\n",
       "        text-align: right;\n",
       "    }\n",
       "</style>\n",
       "<table border=\"1\" class=\"dataframe\">\n",
       "  <thead>\n",
       "    <tr style=\"text-align: right;\">\n",
       "      <th></th>\n",
       "      <th>Years</th>\n",
       "      <th>Kilometers_Driven</th>\n",
       "      <th>Fuel_Type</th>\n",
       "      <th>Transmission</th>\n",
       "      <th>Owner_Type</th>\n",
       "      <th>Mileage(Kmpl)</th>\n",
       "      <th>Engine(CC)</th>\n",
       "      <th>Power(bhp)</th>\n",
       "      <th>Seats</th>\n",
       "      <th>Price</th>\n",
       "      <th>Manufacturer</th>\n",
       "    </tr>\n",
       "  </thead>\n",
       "  <tbody>\n",
       "    <tr>\n",
       "      <th>0</th>\n",
       "      <td>13</td>\n",
       "      <td>72000</td>\n",
       "      <td>CNG</td>\n",
       "      <td>0</td>\n",
       "      <td>First</td>\n",
       "      <td>26.60</td>\n",
       "      <td>998.0</td>\n",
       "      <td>58.16</td>\n",
       "      <td>5.0</td>\n",
       "      <td>1.75</td>\n",
       "      <td>Maruti</td>\n",
       "    </tr>\n",
       "    <tr>\n",
       "      <th>1</th>\n",
       "      <td>8</td>\n",
       "      <td>41000</td>\n",
       "      <td>Diesel</td>\n",
       "      <td>0</td>\n",
       "      <td>First</td>\n",
       "      <td>19.67</td>\n",
       "      <td>1582.0</td>\n",
       "      <td>126.20</td>\n",
       "      <td>5.0</td>\n",
       "      <td>12.50</td>\n",
       "      <td>Hyundai</td>\n",
       "    </tr>\n",
       "  </tbody>\n",
       "</table>\n",
       "</div>"
      ],
      "text/plain": [
       "   Years  Kilometers_Driven Fuel_Type  Transmission Owner_Type  Mileage(Kmpl)  \\\n",
       "0     13              72000       CNG             0      First          26.60   \n",
       "1      8              41000    Diesel             0      First          19.67   \n",
       "\n",
       "   Engine(CC)  Power(bhp)  Seats  Price Manufacturer  \n",
       "0       998.0       58.16    5.0   1.75       Maruti  \n",
       "1      1582.0      126.20    5.0  12.50      Hyundai  "
      ]
     },
     "execution_count": 220,
     "metadata": {},
     "output_type": "execute_result"
    }
   ],
   "source": [
    "df.head(2)"
   ]
  },
  {
   "cell_type": "code",
   "execution_count": 221,
   "id": "5b81fc86",
   "metadata": {},
   "outputs": [],
   "source": [
    "# Creating dummy variables for the variable 'Fuel_Type'\n",
    "\n",
    "ml = pd.get_dummies(df['Fuel_Type'])\n",
    "# Dropping LPG column\n",
    "ml1 = ml.drop(['LPG'], 1)\n",
    "#Adding the results to the master dataframe\n",
    "df = pd.concat([df,ml1], axis=1)\n",
    "\n",
    "# Creating dummy variables for the variable 'Owner_Type'.\n",
    "os = pd.get_dummies(df['Owner_Type'])\n",
    "# Dropping Fourth & Above column\n",
    "os1 = os.drop(['Fourth & Above'], 1)\n",
    "# Adding the results to the master dataframe\n",
    "df = pd.concat([df,os1], axis=1)\n",
    "\n",
    "# Creating dummy variables for the variable 'Manufacturer'. \n",
    "dp = pd.get_dummies(df['Manufacturer'], prefix='Manufacturer')\n",
    "dp1 = dp.drop(['Manufacturer_Jaguar'], 1)\n",
    "# Adding the results to the master dataframe\n",
    "df = pd.concat([df,dp1], axis=1)"
   ]
  },
  {
   "cell_type": "markdown",
   "id": "2b874a24",
   "metadata": {},
   "source": [
    "* Here we are doing **Dummification** of variables - `Fuel_Type`, `Owner_Type` and `Manufacturer`. "
   ]
  },
  {
   "cell_type": "code",
   "execution_count": 222,
   "id": "4ff57d4a",
   "metadata": {},
   "outputs": [
    {
     "data": {
      "text/html": [
       "<div>\n",
       "<style scoped>\n",
       "    .dataframe tbody tr th:only-of-type {\n",
       "        vertical-align: middle;\n",
       "    }\n",
       "\n",
       "    .dataframe tbody tr th {\n",
       "        vertical-align: top;\n",
       "    }\n",
       "\n",
       "    .dataframe thead th {\n",
       "        text-align: right;\n",
       "    }\n",
       "</style>\n",
       "<table border=\"1\" class=\"dataframe\">\n",
       "  <thead>\n",
       "    <tr style=\"text-align: right;\">\n",
       "      <th></th>\n",
       "      <th>Years</th>\n",
       "      <th>Kilometers_Driven</th>\n",
       "      <th>Fuel_Type</th>\n",
       "      <th>Transmission</th>\n",
       "      <th>Owner_Type</th>\n",
       "      <th>Mileage(Kmpl)</th>\n",
       "      <th>Engine(CC)</th>\n",
       "      <th>Power(bhp)</th>\n",
       "      <th>Seats</th>\n",
       "      <th>Price</th>\n",
       "      <th>...</th>\n",
       "      <th>Manufacturer_Mitsubishi</th>\n",
       "      <th>Manufacturer_Nissan</th>\n",
       "      <th>Manufacturer_OpelCorsa</th>\n",
       "      <th>Manufacturer_Porsche</th>\n",
       "      <th>Manufacturer_Renault</th>\n",
       "      <th>Manufacturer_Skoda</th>\n",
       "      <th>Manufacturer_Tata</th>\n",
       "      <th>Manufacturer_Toyota</th>\n",
       "      <th>Manufacturer_Volkswagen</th>\n",
       "      <th>Manufacturer_Volvo</th>\n",
       "    </tr>\n",
       "  </thead>\n",
       "  <tbody>\n",
       "    <tr>\n",
       "      <th>0</th>\n",
       "      <td>13</td>\n",
       "      <td>72000</td>\n",
       "      <td>CNG</td>\n",
       "      <td>0</td>\n",
       "      <td>First</td>\n",
       "      <td>26.60</td>\n",
       "      <td>998.0</td>\n",
       "      <td>58.16</td>\n",
       "      <td>5.0</td>\n",
       "      <td>1.75</td>\n",
       "      <td>...</td>\n",
       "      <td>0</td>\n",
       "      <td>0</td>\n",
       "      <td>0</td>\n",
       "      <td>0</td>\n",
       "      <td>0</td>\n",
       "      <td>0</td>\n",
       "      <td>0</td>\n",
       "      <td>0</td>\n",
       "      <td>0</td>\n",
       "      <td>0</td>\n",
       "    </tr>\n",
       "    <tr>\n",
       "      <th>1</th>\n",
       "      <td>8</td>\n",
       "      <td>41000</td>\n",
       "      <td>Diesel</td>\n",
       "      <td>0</td>\n",
       "      <td>First</td>\n",
       "      <td>19.67</td>\n",
       "      <td>1582.0</td>\n",
       "      <td>126.20</td>\n",
       "      <td>5.0</td>\n",
       "      <td>12.50</td>\n",
       "      <td>...</td>\n",
       "      <td>0</td>\n",
       "      <td>0</td>\n",
       "      <td>0</td>\n",
       "      <td>0</td>\n",
       "      <td>0</td>\n",
       "      <td>0</td>\n",
       "      <td>0</td>\n",
       "      <td>0</td>\n",
       "      <td>0</td>\n",
       "      <td>0</td>\n",
       "    </tr>\n",
       "  </tbody>\n",
       "</table>\n",
       "<p>2 rows × 47 columns</p>\n",
       "</div>"
      ],
      "text/plain": [
       "   Years  Kilometers_Driven Fuel_Type  Transmission Owner_Type  Mileage(Kmpl)  \\\n",
       "0     13              72000       CNG             0      First          26.60   \n",
       "1      8              41000    Diesel             0      First          19.67   \n",
       "\n",
       "   Engine(CC)  Power(bhp)  Seats  Price  ... Manufacturer_Mitsubishi  \\\n",
       "0       998.0       58.16    5.0   1.75  ...                       0   \n",
       "1      1582.0      126.20    5.0  12.50  ...                       0   \n",
       "\n",
       "   Manufacturer_Nissan  Manufacturer_OpelCorsa  Manufacturer_Porsche  \\\n",
       "0                    0                       0                     0   \n",
       "1                    0                       0                     0   \n",
       "\n",
       "   Manufacturer_Renault  Manufacturer_Skoda  Manufacturer_Tata  \\\n",
       "0                     0                   0                  0   \n",
       "1                     0                   0                  0   \n",
       "\n",
       "   Manufacturer_Toyota  Manufacturer_Volkswagen  Manufacturer_Volvo  \n",
       "0                    0                        0                   0  \n",
       "1                    0                        0                   0  \n",
       "\n",
       "[2 rows x 47 columns]"
      ]
     },
     "execution_count": 222,
     "metadata": {},
     "output_type": "execute_result"
    }
   ],
   "source": [
    "df.head(2)"
   ]
  },
  {
   "cell_type": "code",
   "execution_count": 223,
   "id": "7904a0e7",
   "metadata": {},
   "outputs": [],
   "source": [
    "# Dropping variables - Fuel_Type and Owner_Type\n",
    "\n",
    "df.drop([\"Fuel_Type\",\"Owner_Type\",\"Manufacturer\"],axis=1,inplace=True)"
   ]
  },
  {
   "cell_type": "code",
   "execution_count": 224,
   "id": "16313428",
   "metadata": {},
   "outputs": [
    {
     "data": {
      "text/html": [
       "<div>\n",
       "<style scoped>\n",
       "    .dataframe tbody tr th:only-of-type {\n",
       "        vertical-align: middle;\n",
       "    }\n",
       "\n",
       "    .dataframe tbody tr th {\n",
       "        vertical-align: top;\n",
       "    }\n",
       "\n",
       "    .dataframe thead th {\n",
       "        text-align: right;\n",
       "    }\n",
       "</style>\n",
       "<table border=\"1\" class=\"dataframe\">\n",
       "  <thead>\n",
       "    <tr style=\"text-align: right;\">\n",
       "      <th></th>\n",
       "      <th>Years</th>\n",
       "      <th>Kilometers_Driven</th>\n",
       "      <th>Transmission</th>\n",
       "      <th>Mileage(Kmpl)</th>\n",
       "      <th>Engine(CC)</th>\n",
       "      <th>Power(bhp)</th>\n",
       "      <th>Seats</th>\n",
       "      <th>Price</th>\n",
       "      <th>CNG</th>\n",
       "      <th>Diesel</th>\n",
       "      <th>...</th>\n",
       "      <th>Manufacturer_Mitsubishi</th>\n",
       "      <th>Manufacturer_Nissan</th>\n",
       "      <th>Manufacturer_OpelCorsa</th>\n",
       "      <th>Manufacturer_Porsche</th>\n",
       "      <th>Manufacturer_Renault</th>\n",
       "      <th>Manufacturer_Skoda</th>\n",
       "      <th>Manufacturer_Tata</th>\n",
       "      <th>Manufacturer_Toyota</th>\n",
       "      <th>Manufacturer_Volkswagen</th>\n",
       "      <th>Manufacturer_Volvo</th>\n",
       "    </tr>\n",
       "  </thead>\n",
       "  <tbody>\n",
       "    <tr>\n",
       "      <th>0</th>\n",
       "      <td>13</td>\n",
       "      <td>72000</td>\n",
       "      <td>0</td>\n",
       "      <td>26.60</td>\n",
       "      <td>998.0</td>\n",
       "      <td>58.16</td>\n",
       "      <td>5.0</td>\n",
       "      <td>1.75</td>\n",
       "      <td>1</td>\n",
       "      <td>0</td>\n",
       "      <td>...</td>\n",
       "      <td>0</td>\n",
       "      <td>0</td>\n",
       "      <td>0</td>\n",
       "      <td>0</td>\n",
       "      <td>0</td>\n",
       "      <td>0</td>\n",
       "      <td>0</td>\n",
       "      <td>0</td>\n",
       "      <td>0</td>\n",
       "      <td>0</td>\n",
       "    </tr>\n",
       "    <tr>\n",
       "      <th>1</th>\n",
       "      <td>8</td>\n",
       "      <td>41000</td>\n",
       "      <td>0</td>\n",
       "      <td>19.67</td>\n",
       "      <td>1582.0</td>\n",
       "      <td>126.20</td>\n",
       "      <td>5.0</td>\n",
       "      <td>12.50</td>\n",
       "      <td>0</td>\n",
       "      <td>1</td>\n",
       "      <td>...</td>\n",
       "      <td>0</td>\n",
       "      <td>0</td>\n",
       "      <td>0</td>\n",
       "      <td>0</td>\n",
       "      <td>0</td>\n",
       "      <td>0</td>\n",
       "      <td>0</td>\n",
       "      <td>0</td>\n",
       "      <td>0</td>\n",
       "      <td>0</td>\n",
       "    </tr>\n",
       "    <tr>\n",
       "      <th>2</th>\n",
       "      <td>12</td>\n",
       "      <td>46000</td>\n",
       "      <td>0</td>\n",
       "      <td>18.20</td>\n",
       "      <td>1199.0</td>\n",
       "      <td>88.70</td>\n",
       "      <td>5.0</td>\n",
       "      <td>4.50</td>\n",
       "      <td>0</td>\n",
       "      <td>0</td>\n",
       "      <td>...</td>\n",
       "      <td>0</td>\n",
       "      <td>0</td>\n",
       "      <td>0</td>\n",
       "      <td>0</td>\n",
       "      <td>0</td>\n",
       "      <td>0</td>\n",
       "      <td>0</td>\n",
       "      <td>0</td>\n",
       "      <td>0</td>\n",
       "      <td>0</td>\n",
       "    </tr>\n",
       "    <tr>\n",
       "      <th>3</th>\n",
       "      <td>11</td>\n",
       "      <td>87000</td>\n",
       "      <td>0</td>\n",
       "      <td>20.77</td>\n",
       "      <td>1248.0</td>\n",
       "      <td>88.76</td>\n",
       "      <td>7.0</td>\n",
       "      <td>6.00</td>\n",
       "      <td>0</td>\n",
       "      <td>1</td>\n",
       "      <td>...</td>\n",
       "      <td>0</td>\n",
       "      <td>0</td>\n",
       "      <td>0</td>\n",
       "      <td>0</td>\n",
       "      <td>0</td>\n",
       "      <td>0</td>\n",
       "      <td>0</td>\n",
       "      <td>0</td>\n",
       "      <td>0</td>\n",
       "      <td>0</td>\n",
       "    </tr>\n",
       "    <tr>\n",
       "      <th>4</th>\n",
       "      <td>10</td>\n",
       "      <td>40670</td>\n",
       "      <td>1</td>\n",
       "      <td>15.20</td>\n",
       "      <td>1968.0</td>\n",
       "      <td>140.80</td>\n",
       "      <td>5.0</td>\n",
       "      <td>17.74</td>\n",
       "      <td>0</td>\n",
       "      <td>1</td>\n",
       "      <td>...</td>\n",
       "      <td>0</td>\n",
       "      <td>0</td>\n",
       "      <td>0</td>\n",
       "      <td>0</td>\n",
       "      <td>0</td>\n",
       "      <td>0</td>\n",
       "      <td>0</td>\n",
       "      <td>0</td>\n",
       "      <td>0</td>\n",
       "      <td>0</td>\n",
       "    </tr>\n",
       "    <tr>\n",
       "      <th>5</th>\n",
       "      <td>11</td>\n",
       "      <td>75000</td>\n",
       "      <td>0</td>\n",
       "      <td>21.10</td>\n",
       "      <td>814.0</td>\n",
       "      <td>55.20</td>\n",
       "      <td>5.0</td>\n",
       "      <td>2.35</td>\n",
       "      <td>0</td>\n",
       "      <td>0</td>\n",
       "      <td>...</td>\n",
       "      <td>0</td>\n",
       "      <td>0</td>\n",
       "      <td>0</td>\n",
       "      <td>0</td>\n",
       "      <td>0</td>\n",
       "      <td>0</td>\n",
       "      <td>0</td>\n",
       "      <td>0</td>\n",
       "      <td>0</td>\n",
       "      <td>0</td>\n",
       "    </tr>\n",
       "    <tr>\n",
       "      <th>6</th>\n",
       "      <td>10</td>\n",
       "      <td>86999</td>\n",
       "      <td>0</td>\n",
       "      <td>23.08</td>\n",
       "      <td>1461.0</td>\n",
       "      <td>63.10</td>\n",
       "      <td>5.0</td>\n",
       "      <td>3.50</td>\n",
       "      <td>0</td>\n",
       "      <td>1</td>\n",
       "      <td>...</td>\n",
       "      <td>0</td>\n",
       "      <td>1</td>\n",
       "      <td>0</td>\n",
       "      <td>0</td>\n",
       "      <td>0</td>\n",
       "      <td>0</td>\n",
       "      <td>0</td>\n",
       "      <td>0</td>\n",
       "      <td>0</td>\n",
       "      <td>0</td>\n",
       "    </tr>\n",
       "    <tr>\n",
       "      <th>7</th>\n",
       "      <td>7</td>\n",
       "      <td>36000</td>\n",
       "      <td>1</td>\n",
       "      <td>11.36</td>\n",
       "      <td>2755.0</td>\n",
       "      <td>171.50</td>\n",
       "      <td>8.0</td>\n",
       "      <td>17.50</td>\n",
       "      <td>0</td>\n",
       "      <td>1</td>\n",
       "      <td>...</td>\n",
       "      <td>0</td>\n",
       "      <td>0</td>\n",
       "      <td>0</td>\n",
       "      <td>0</td>\n",
       "      <td>0</td>\n",
       "      <td>0</td>\n",
       "      <td>0</td>\n",
       "      <td>1</td>\n",
       "      <td>0</td>\n",
       "      <td>0</td>\n",
       "    </tr>\n",
       "    <tr>\n",
       "      <th>8</th>\n",
       "      <td>10</td>\n",
       "      <td>64430</td>\n",
       "      <td>0</td>\n",
       "      <td>20.54</td>\n",
       "      <td>1598.0</td>\n",
       "      <td>103.60</td>\n",
       "      <td>5.0</td>\n",
       "      <td>5.20</td>\n",
       "      <td>0</td>\n",
       "      <td>1</td>\n",
       "      <td>...</td>\n",
       "      <td>0</td>\n",
       "      <td>0</td>\n",
       "      <td>0</td>\n",
       "      <td>0</td>\n",
       "      <td>0</td>\n",
       "      <td>0</td>\n",
       "      <td>0</td>\n",
       "      <td>0</td>\n",
       "      <td>1</td>\n",
       "      <td>0</td>\n",
       "    </tr>\n",
       "    <tr>\n",
       "      <th>9</th>\n",
       "      <td>11</td>\n",
       "      <td>65932</td>\n",
       "      <td>0</td>\n",
       "      <td>22.30</td>\n",
       "      <td>1248.0</td>\n",
       "      <td>74.00</td>\n",
       "      <td>5.0</td>\n",
       "      <td>1.95</td>\n",
       "      <td>0</td>\n",
       "      <td>1</td>\n",
       "      <td>...</td>\n",
       "      <td>0</td>\n",
       "      <td>0</td>\n",
       "      <td>0</td>\n",
       "      <td>0</td>\n",
       "      <td>0</td>\n",
       "      <td>0</td>\n",
       "      <td>1</td>\n",
       "      <td>0</td>\n",
       "      <td>0</td>\n",
       "      <td>0</td>\n",
       "    </tr>\n",
       "    <tr>\n",
       "      <th>10</th>\n",
       "      <td>5</td>\n",
       "      <td>25692</td>\n",
       "      <td>0</td>\n",
       "      <td>21.56</td>\n",
       "      <td>1462.0</td>\n",
       "      <td>103.25</td>\n",
       "      <td>5.0</td>\n",
       "      <td>9.95</td>\n",
       "      <td>0</td>\n",
       "      <td>0</td>\n",
       "      <td>...</td>\n",
       "      <td>0</td>\n",
       "      <td>0</td>\n",
       "      <td>0</td>\n",
       "      <td>0</td>\n",
       "      <td>0</td>\n",
       "      <td>0</td>\n",
       "      <td>0</td>\n",
       "      <td>0</td>\n",
       "      <td>0</td>\n",
       "      <td>0</td>\n",
       "    </tr>\n",
       "    <tr>\n",
       "      <th>11</th>\n",
       "      <td>11</td>\n",
       "      <td>60000</td>\n",
       "      <td>1</td>\n",
       "      <td>16.80</td>\n",
       "      <td>1497.0</td>\n",
       "      <td>116.30</td>\n",
       "      <td>5.0</td>\n",
       "      <td>4.49</td>\n",
       "      <td>0</td>\n",
       "      <td>0</td>\n",
       "      <td>...</td>\n",
       "      <td>0</td>\n",
       "      <td>0</td>\n",
       "      <td>0</td>\n",
       "      <td>0</td>\n",
       "      <td>0</td>\n",
       "      <td>0</td>\n",
       "      <td>0</td>\n",
       "      <td>0</td>\n",
       "      <td>0</td>\n",
       "      <td>0</td>\n",
       "    </tr>\n",
       "    <tr>\n",
       "      <th>12</th>\n",
       "      <td>8</td>\n",
       "      <td>64424</td>\n",
       "      <td>0</td>\n",
       "      <td>25.20</td>\n",
       "      <td>1248.0</td>\n",
       "      <td>74.00</td>\n",
       "      <td>5.0</td>\n",
       "      <td>5.60</td>\n",
       "      <td>0</td>\n",
       "      <td>1</td>\n",
       "      <td>...</td>\n",
       "      <td>0</td>\n",
       "      <td>0</td>\n",
       "      <td>0</td>\n",
       "      <td>0</td>\n",
       "      <td>0</td>\n",
       "      <td>0</td>\n",
       "      <td>0</td>\n",
       "      <td>0</td>\n",
       "      <td>0</td>\n",
       "      <td>0</td>\n",
       "    </tr>\n",
       "    <tr>\n",
       "      <th>13</th>\n",
       "      <td>9</td>\n",
       "      <td>72000</td>\n",
       "      <td>1</td>\n",
       "      <td>12.70</td>\n",
       "      <td>2179.0</td>\n",
       "      <td>187.70</td>\n",
       "      <td>5.0</td>\n",
       "      <td>27.00</td>\n",
       "      <td>0</td>\n",
       "      <td>1</td>\n",
       "      <td>...</td>\n",
       "      <td>0</td>\n",
       "      <td>0</td>\n",
       "      <td>0</td>\n",
       "      <td>0</td>\n",
       "      <td>0</td>\n",
       "      <td>0</td>\n",
       "      <td>0</td>\n",
       "      <td>0</td>\n",
       "      <td>0</td>\n",
       "      <td>0</td>\n",
       "    </tr>\n",
       "    <tr>\n",
       "      <th>15</th>\n",
       "      <td>9</td>\n",
       "      <td>110000</td>\n",
       "      <td>0</td>\n",
       "      <td>13.50</td>\n",
       "      <td>2477.0</td>\n",
       "      <td>175.56</td>\n",
       "      <td>7.0</td>\n",
       "      <td>15.00</td>\n",
       "      <td>0</td>\n",
       "      <td>1</td>\n",
       "      <td>...</td>\n",
       "      <td>1</td>\n",
       "      <td>0</td>\n",
       "      <td>0</td>\n",
       "      <td>0</td>\n",
       "      <td>0</td>\n",
       "      <td>0</td>\n",
       "      <td>0</td>\n",
       "      <td>0</td>\n",
       "      <td>0</td>\n",
       "      <td>0</td>\n",
       "    </tr>\n",
       "  </tbody>\n",
       "</table>\n",
       "<p>15 rows × 44 columns</p>\n",
       "</div>"
      ],
      "text/plain": [
       "    Years  Kilometers_Driven  Transmission  Mileage(Kmpl)  Engine(CC)  \\\n",
       "0      13              72000             0          26.60       998.0   \n",
       "1       8              41000             0          19.67      1582.0   \n",
       "2      12              46000             0          18.20      1199.0   \n",
       "3      11              87000             0          20.77      1248.0   \n",
       "4      10              40670             1          15.20      1968.0   \n",
       "5      11              75000             0          21.10       814.0   \n",
       "6      10              86999             0          23.08      1461.0   \n",
       "7       7              36000             1          11.36      2755.0   \n",
       "8      10              64430             0          20.54      1598.0   \n",
       "9      11              65932             0          22.30      1248.0   \n",
       "10      5              25692             0          21.56      1462.0   \n",
       "11     11              60000             1          16.80      1497.0   \n",
       "12      8              64424             0          25.20      1248.0   \n",
       "13      9              72000             1          12.70      2179.0   \n",
       "15      9             110000             0          13.50      2477.0   \n",
       "\n",
       "    Power(bhp)  Seats  Price  CNG  Diesel  ...  Manufacturer_Mitsubishi  \\\n",
       "0        58.16    5.0   1.75    1       0  ...                        0   \n",
       "1       126.20    5.0  12.50    0       1  ...                        0   \n",
       "2        88.70    5.0   4.50    0       0  ...                        0   \n",
       "3        88.76    7.0   6.00    0       1  ...                        0   \n",
       "4       140.80    5.0  17.74    0       1  ...                        0   \n",
       "5        55.20    5.0   2.35    0       0  ...                        0   \n",
       "6        63.10    5.0   3.50    0       1  ...                        0   \n",
       "7       171.50    8.0  17.50    0       1  ...                        0   \n",
       "8       103.60    5.0   5.20    0       1  ...                        0   \n",
       "9        74.00    5.0   1.95    0       1  ...                        0   \n",
       "10      103.25    5.0   9.95    0       0  ...                        0   \n",
       "11      116.30    5.0   4.49    0       0  ...                        0   \n",
       "12       74.00    5.0   5.60    0       1  ...                        0   \n",
       "13      187.70    5.0  27.00    0       1  ...                        0   \n",
       "15      175.56    7.0  15.00    0       1  ...                        1   \n",
       "\n",
       "    Manufacturer_Nissan  Manufacturer_OpelCorsa  Manufacturer_Porsche  \\\n",
       "0                     0                       0                     0   \n",
       "1                     0                       0                     0   \n",
       "2                     0                       0                     0   \n",
       "3                     0                       0                     0   \n",
       "4                     0                       0                     0   \n",
       "5                     0                       0                     0   \n",
       "6                     1                       0                     0   \n",
       "7                     0                       0                     0   \n",
       "8                     0                       0                     0   \n",
       "9                     0                       0                     0   \n",
       "10                    0                       0                     0   \n",
       "11                    0                       0                     0   \n",
       "12                    0                       0                     0   \n",
       "13                    0                       0                     0   \n",
       "15                    0                       0                     0   \n",
       "\n",
       "    Manufacturer_Renault  Manufacturer_Skoda  Manufacturer_Tata  \\\n",
       "0                      0                   0                  0   \n",
       "1                      0                   0                  0   \n",
       "2                      0                   0                  0   \n",
       "3                      0                   0                  0   \n",
       "4                      0                   0                  0   \n",
       "5                      0                   0                  0   \n",
       "6                      0                   0                  0   \n",
       "7                      0                   0                  0   \n",
       "8                      0                   0                  0   \n",
       "9                      0                   0                  1   \n",
       "10                     0                   0                  0   \n",
       "11                     0                   0                  0   \n",
       "12                     0                   0                  0   \n",
       "13                     0                   0                  0   \n",
       "15                     0                   0                  0   \n",
       "\n",
       "    Manufacturer_Toyota  Manufacturer_Volkswagen  Manufacturer_Volvo  \n",
       "0                     0                        0                   0  \n",
       "1                     0                        0                   0  \n",
       "2                     0                        0                   0  \n",
       "3                     0                        0                   0  \n",
       "4                     0                        0                   0  \n",
       "5                     0                        0                   0  \n",
       "6                     0                        0                   0  \n",
       "7                     1                        0                   0  \n",
       "8                     0                        1                   0  \n",
       "9                     0                        0                   0  \n",
       "10                    0                        0                   0  \n",
       "11                    0                        0                   0  \n",
       "12                    0                        0                   0  \n",
       "13                    0                        0                   0  \n",
       "15                    0                        0                   0  \n",
       "\n",
       "[15 rows x 44 columns]"
      ]
     },
     "execution_count": 224,
     "metadata": {},
     "output_type": "execute_result"
    }
   ],
   "source": [
    "df.head(15)"
   ]
  },
  {
   "cell_type": "code",
   "execution_count": 225,
   "id": "2001fb24",
   "metadata": {},
   "outputs": [
    {
     "data": {
      "text/plain": [
       "(6794, 44)"
      ]
     },
     "execution_count": 225,
     "metadata": {},
     "output_type": "execute_result"
    }
   ],
   "source": [
    "df.shape"
   ]
  },
  {
   "cell_type": "markdown",
   "id": "7a9a3373",
   "metadata": {},
   "source": [
    "## Building Model using Linear Regression Algorithm"
   ]
  },
  {
   "cell_type": "code",
   "execution_count": 226,
   "id": "2a0be934",
   "metadata": {},
   "outputs": [],
   "source": [
    "# Importing train_test_split method from sklearn library\n",
    "\n",
    "from sklearn.model_selection import train_test_split\n",
    "df_train,df_test=train_test_split(df,train_size=0.7,random_state=100)"
   ]
  },
  {
   "cell_type": "markdown",
   "id": "bf19e70c",
   "metadata": {},
   "source": [
    "### Feature Scaling "
   ]
  },
  {
   "cell_type": "code",
   "execution_count": 227,
   "id": "aff0e35c",
   "metadata": {},
   "outputs": [],
   "source": [
    "varlist=[\"Years\", \"Kilometers_Driven\", \"Mileage(Kmpl)\", \"Engine(CC)\", \"Power(bhp)\", \"Seats\", \"Price\"]"
   ]
  },
  {
   "cell_type": "code",
   "execution_count": 228,
   "id": "4c2b6731",
   "metadata": {},
   "outputs": [],
   "source": [
    "# importing MinMaxScaler package from sklearn library\n",
    "\n",
    "from sklearn.preprocessing import MinMaxScaler\n",
    "scaler=MinMaxScaler()"
   ]
  },
  {
   "cell_type": "code",
   "execution_count": 229,
   "id": "a3950151",
   "metadata": {},
   "outputs": [],
   "source": [
    "features=df_train[varlist]\n",
    "df_train[varlist]=scaler.fit_transform(features)"
   ]
  },
  {
   "cell_type": "code",
   "execution_count": 230,
   "id": "1ae87205",
   "metadata": {},
   "outputs": [
    {
     "data": {
      "text/html": [
       "<div>\n",
       "<style scoped>\n",
       "    .dataframe tbody tr th:only-of-type {\n",
       "        vertical-align: middle;\n",
       "    }\n",
       "\n",
       "    .dataframe tbody tr th {\n",
       "        vertical-align: top;\n",
       "    }\n",
       "\n",
       "    .dataframe thead th {\n",
       "        text-align: right;\n",
       "    }\n",
       "</style>\n",
       "<table border=\"1\" class=\"dataframe\">\n",
       "  <thead>\n",
       "    <tr style=\"text-align: right;\">\n",
       "      <th></th>\n",
       "      <th>Years</th>\n",
       "      <th>Kilometers_Driven</th>\n",
       "      <th>Transmission</th>\n",
       "      <th>Mileage(Kmpl)</th>\n",
       "      <th>Engine(CC)</th>\n",
       "      <th>Power(bhp)</th>\n",
       "      <th>Seats</th>\n",
       "      <th>Price</th>\n",
       "      <th>CNG</th>\n",
       "      <th>Diesel</th>\n",
       "      <th>...</th>\n",
       "      <th>Manufacturer_Mitsubishi</th>\n",
       "      <th>Manufacturer_Nissan</th>\n",
       "      <th>Manufacturer_OpelCorsa</th>\n",
       "      <th>Manufacturer_Porsche</th>\n",
       "      <th>Manufacturer_Renault</th>\n",
       "      <th>Manufacturer_Skoda</th>\n",
       "      <th>Manufacturer_Tata</th>\n",
       "      <th>Manufacturer_Toyota</th>\n",
       "      <th>Manufacturer_Volkswagen</th>\n",
       "      <th>Manufacturer_Volvo</th>\n",
       "    </tr>\n",
       "  </thead>\n",
       "  <tbody>\n",
       "    <tr>\n",
       "      <th>2975</th>\n",
       "      <td>0.238095</td>\n",
       "      <td>0.247109</td>\n",
       "      <td>0</td>\n",
       "      <td>0.516518</td>\n",
       "      <td>0.106624</td>\n",
       "      <td>0.099652</td>\n",
       "      <td>0.375</td>\n",
       "      <td>0.036260</td>\n",
       "      <td>0</td>\n",
       "      <td>0</td>\n",
       "      <td>...</td>\n",
       "      <td>0</td>\n",
       "      <td>0</td>\n",
       "      <td>0</td>\n",
       "      <td>0</td>\n",
       "      <td>0</td>\n",
       "      <td>0</td>\n",
       "      <td>0</td>\n",
       "      <td>0</td>\n",
       "      <td>0</td>\n",
       "      <td>0</td>\n",
       "    </tr>\n",
       "    <tr>\n",
       "      <th>4100</th>\n",
       "      <td>0.333333</td>\n",
       "      <td>0.717188</td>\n",
       "      <td>0</td>\n",
       "      <td>0.554217</td>\n",
       "      <td>0.106997</td>\n",
       "      <td>0.076671</td>\n",
       "      <td>0.375</td>\n",
       "      <td>0.040779</td>\n",
       "      <td>0</td>\n",
       "      <td>1</td>\n",
       "      <td>...</td>\n",
       "      <td>0</td>\n",
       "      <td>0</td>\n",
       "      <td>0</td>\n",
       "      <td>0</td>\n",
       "      <td>0</td>\n",
       "      <td>0</td>\n",
       "      <td>0</td>\n",
       "      <td>0</td>\n",
       "      <td>1</td>\n",
       "      <td>0</td>\n",
       "    </tr>\n",
       "    <tr>\n",
       "      <th>4400</th>\n",
       "      <td>0.380952</td>\n",
       "      <td>0.350297</td>\n",
       "      <td>0</td>\n",
       "      <td>0.289545</td>\n",
       "      <td>0.181243</td>\n",
       "      <td>0.133835</td>\n",
       "      <td>0.375</td>\n",
       "      <td>0.019184</td>\n",
       "      <td>0</td>\n",
       "      <td>0</td>\n",
       "      <td>...</td>\n",
       "      <td>0</td>\n",
       "      <td>0</td>\n",
       "      <td>0</td>\n",
       "      <td>0</td>\n",
       "      <td>0</td>\n",
       "      <td>0</td>\n",
       "      <td>0</td>\n",
       "      <td>0</td>\n",
       "      <td>1</td>\n",
       "      <td>0</td>\n",
       "    </tr>\n",
       "  </tbody>\n",
       "</table>\n",
       "<p>3 rows × 44 columns</p>\n",
       "</div>"
      ],
      "text/plain": [
       "         Years  Kilometers_Driven  Transmission  Mileage(Kmpl)  Engine(CC)  \\\n",
       "2975  0.238095           0.247109             0       0.516518    0.106624   \n",
       "4100  0.333333           0.717188             0       0.554217    0.106997   \n",
       "4400  0.380952           0.350297             0       0.289545    0.181243   \n",
       "\n",
       "      Power(bhp)  Seats     Price  CNG  Diesel  ...  Manufacturer_Mitsubishi  \\\n",
       "2975    0.099652  0.375  0.036260    0       0  ...                        0   \n",
       "4100    0.076671  0.375  0.040779    0       1  ...                        0   \n",
       "4400    0.133835  0.375  0.019184    0       0  ...                        0   \n",
       "\n",
       "      Manufacturer_Nissan  Manufacturer_OpelCorsa  Manufacturer_Porsche  \\\n",
       "2975                    0                       0                     0   \n",
       "4100                    0                       0                     0   \n",
       "4400                    0                       0                     0   \n",
       "\n",
       "      Manufacturer_Renault  Manufacturer_Skoda  Manufacturer_Tata  \\\n",
       "2975                     0                   0                  0   \n",
       "4100                     0                   0                  0   \n",
       "4400                     0                   0                  0   \n",
       "\n",
       "      Manufacturer_Toyota  Manufacturer_Volkswagen  Manufacturer_Volvo  \n",
       "2975                    0                        0                   0  \n",
       "4100                    0                        1                   0  \n",
       "4400                    0                        1                   0  \n",
       "\n",
       "[3 rows x 44 columns]"
      ]
     },
     "execution_count": 230,
     "metadata": {},
     "output_type": "execute_result"
    }
   ],
   "source": [
    "df_train.head(3)"
   ]
  },
  {
   "cell_type": "code",
   "execution_count": 231,
   "id": "d5e9feff",
   "metadata": {},
   "outputs": [],
   "source": [
    "# Segregating \"Price\" variable into y_train dataset from df_train\n",
    "\n",
    "y_train=df_train.pop(\"Price\")\n",
    "X_train=df_train"
   ]
  },
  {
   "cell_type": "code",
   "execution_count": 232,
   "id": "b43634b1",
   "metadata": {},
   "outputs": [
    {
     "data": {
      "text/html": [
       "<div>\n",
       "<style scoped>\n",
       "    .dataframe tbody tr th:only-of-type {\n",
       "        vertical-align: middle;\n",
       "    }\n",
       "\n",
       "    .dataframe tbody tr th {\n",
       "        vertical-align: top;\n",
       "    }\n",
       "\n",
       "    .dataframe thead th {\n",
       "        text-align: right;\n",
       "    }\n",
       "</style>\n",
       "<table border=\"1\" class=\"dataframe\">\n",
       "  <thead>\n",
       "    <tr style=\"text-align: right;\">\n",
       "      <th></th>\n",
       "      <th>Years</th>\n",
       "      <th>Kilometers_Driven</th>\n",
       "      <th>Transmission</th>\n",
       "      <th>Mileage(Kmpl)</th>\n",
       "      <th>Engine(CC)</th>\n",
       "      <th>Power(bhp)</th>\n",
       "      <th>Seats</th>\n",
       "      <th>CNG</th>\n",
       "      <th>Diesel</th>\n",
       "      <th>Petrol</th>\n",
       "      <th>...</th>\n",
       "      <th>Manufacturer_Mitsubishi</th>\n",
       "      <th>Manufacturer_Nissan</th>\n",
       "      <th>Manufacturer_OpelCorsa</th>\n",
       "      <th>Manufacturer_Porsche</th>\n",
       "      <th>Manufacturer_Renault</th>\n",
       "      <th>Manufacturer_Skoda</th>\n",
       "      <th>Manufacturer_Tata</th>\n",
       "      <th>Manufacturer_Toyota</th>\n",
       "      <th>Manufacturer_Volkswagen</th>\n",
       "      <th>Manufacturer_Volvo</th>\n",
       "    </tr>\n",
       "  </thead>\n",
       "  <tbody>\n",
       "    <tr>\n",
       "      <th>2975</th>\n",
       "      <td>0.238095</td>\n",
       "      <td>0.247109</td>\n",
       "      <td>0</td>\n",
       "      <td>0.516518</td>\n",
       "      <td>0.106624</td>\n",
       "      <td>0.099652</td>\n",
       "      <td>0.375</td>\n",
       "      <td>0</td>\n",
       "      <td>0</td>\n",
       "      <td>1</td>\n",
       "      <td>...</td>\n",
       "      <td>0</td>\n",
       "      <td>0</td>\n",
       "      <td>0</td>\n",
       "      <td>0</td>\n",
       "      <td>0</td>\n",
       "      <td>0</td>\n",
       "      <td>0</td>\n",
       "      <td>0</td>\n",
       "      <td>0</td>\n",
       "      <td>0</td>\n",
       "    </tr>\n",
       "    <tr>\n",
       "      <th>4100</th>\n",
       "      <td>0.333333</td>\n",
       "      <td>0.717188</td>\n",
       "      <td>0</td>\n",
       "      <td>0.554217</td>\n",
       "      <td>0.106997</td>\n",
       "      <td>0.076671</td>\n",
       "      <td>0.375</td>\n",
       "      <td>0</td>\n",
       "      <td>1</td>\n",
       "      <td>0</td>\n",
       "      <td>...</td>\n",
       "      <td>0</td>\n",
       "      <td>0</td>\n",
       "      <td>0</td>\n",
       "      <td>0</td>\n",
       "      <td>0</td>\n",
       "      <td>0</td>\n",
       "      <td>0</td>\n",
       "      <td>0</td>\n",
       "      <td>1</td>\n",
       "      <td>0</td>\n",
       "    </tr>\n",
       "    <tr>\n",
       "      <th>4400</th>\n",
       "      <td>0.380952</td>\n",
       "      <td>0.350297</td>\n",
       "      <td>0</td>\n",
       "      <td>0.289545</td>\n",
       "      <td>0.181243</td>\n",
       "      <td>0.133835</td>\n",
       "      <td>0.375</td>\n",
       "      <td>0</td>\n",
       "      <td>0</td>\n",
       "      <td>1</td>\n",
       "      <td>...</td>\n",
       "      <td>0</td>\n",
       "      <td>0</td>\n",
       "      <td>0</td>\n",
       "      <td>0</td>\n",
       "      <td>0</td>\n",
       "      <td>0</td>\n",
       "      <td>0</td>\n",
       "      <td>0</td>\n",
       "      <td>1</td>\n",
       "      <td>0</td>\n",
       "    </tr>\n",
       "  </tbody>\n",
       "</table>\n",
       "<p>3 rows × 43 columns</p>\n",
       "</div>"
      ],
      "text/plain": [
       "         Years  Kilometers_Driven  Transmission  Mileage(Kmpl)  Engine(CC)  \\\n",
       "2975  0.238095           0.247109             0       0.516518    0.106624   \n",
       "4100  0.333333           0.717188             0       0.554217    0.106997   \n",
       "4400  0.380952           0.350297             0       0.289545    0.181243   \n",
       "\n",
       "      Power(bhp)  Seats  CNG  Diesel  Petrol  ...  Manufacturer_Mitsubishi  \\\n",
       "2975    0.099652  0.375    0       0       1  ...                        0   \n",
       "4100    0.076671  0.375    0       1       0  ...                        0   \n",
       "4400    0.133835  0.375    0       0       1  ...                        0   \n",
       "\n",
       "      Manufacturer_Nissan  Manufacturer_OpelCorsa  Manufacturer_Porsche  \\\n",
       "2975                    0                       0                     0   \n",
       "4100                    0                       0                     0   \n",
       "4400                    0                       0                     0   \n",
       "\n",
       "      Manufacturer_Renault  Manufacturer_Skoda  Manufacturer_Tata  \\\n",
       "2975                     0                   0                  0   \n",
       "4100                     0                   0                  0   \n",
       "4400                     0                   0                  0   \n",
       "\n",
       "      Manufacturer_Toyota  Manufacturer_Volkswagen  Manufacturer_Volvo  \n",
       "2975                    0                        0                   0  \n",
       "4100                    0                        1                   0  \n",
       "4400                    0                        1                   0  \n",
       "\n",
       "[3 rows x 43 columns]"
      ]
     },
     "execution_count": 232,
     "metadata": {},
     "output_type": "execute_result"
    }
   ],
   "source": [
    "X_train.head(3)"
   ]
  },
  {
   "cell_type": "code",
   "execution_count": 233,
   "id": "4ac78526",
   "metadata": {},
   "outputs": [],
   "source": [
    "from sklearn.feature_selection import RFE\n",
    "from sklearn.linear_model import LinearRegression"
   ]
  },
  {
   "cell_type": "code",
   "execution_count": 234,
   "id": "72d9a47b",
   "metadata": {},
   "outputs": [
    {
     "data": {
      "text/plain": [
       "LinearRegression()"
      ]
     },
     "execution_count": 234,
     "metadata": {},
     "output_type": "execute_result"
    }
   ],
   "source": [
    "lm = LinearRegression()\n",
    "lm.fit(X_train, y_train)"
   ]
  },
  {
   "cell_type": "code",
   "execution_count": 235,
   "id": "f06c73b3",
   "metadata": {},
   "outputs": [
    {
     "data": {
      "text/plain": [
       "(4755, 43)"
      ]
     },
     "execution_count": 235,
     "metadata": {},
     "output_type": "execute_result"
    }
   ],
   "source": [
    "X_train.shape"
   ]
  },
  {
   "cell_type": "code",
   "execution_count": 236,
   "id": "3da5003c",
   "metadata": {},
   "outputs": [],
   "source": [
    "rfe = RFE(estimator=lm, n_features_to_select=33)             # running RFE\n",
    "rfe = rfe.fit(X_train, y_train)"
   ]
  },
  {
   "cell_type": "code",
   "execution_count": 237,
   "id": "760531d2",
   "metadata": {},
   "outputs": [
    {
     "data": {
      "text/plain": [
       "[('Years', True, 1),\n",
       " ('Kilometers_Driven', False, 2),\n",
       " ('Transmission', False, 8),\n",
       " ('Mileage(Kmpl)', False, 7),\n",
       " ('Engine(CC)', True, 1),\n",
       " ('Power(bhp)', True, 1),\n",
       " ('Seats', True, 1),\n",
       " ('CNG', False, 4),\n",
       " ('Diesel', False, 6),\n",
       " ('Petrol', False, 5),\n",
       " ('First', True, 1),\n",
       " ('Second', True, 1),\n",
       " ('Third', True, 1),\n",
       " ('Manufacturer_Ambassador', False, 9),\n",
       " ('Manufacturer_Audi', True, 1),\n",
       " ('Manufacturer_BMW', True, 1),\n",
       " ('Manufacturer_Bentley', True, 1),\n",
       " ('Manufacturer_Chevrolet', True, 1),\n",
       " ('Manufacturer_Datsun', True, 1),\n",
       " ('Manufacturer_Fiat', True, 1),\n",
       " ('Manufacturer_Force', True, 1),\n",
       " ('Manufacturer_Ford', True, 1),\n",
       " ('Manufacturer_Honda', True, 1),\n",
       " ('Manufacturer_Hyundai', True, 1),\n",
       " ('Manufacturer_ISUZU', True, 1),\n",
       " ('Manufacturer_Isuzu', False, 11),\n",
       " ('Manufacturer_Jeep', True, 1),\n",
       " ('Manufacturer_Lamborghini', False, 10),\n",
       " ('Manufacturer_Land', True, 1),\n",
       " ('Manufacturer_Mahindra', True, 1),\n",
       " ('Manufacturer_Maruti', True, 1),\n",
       " ('Manufacturer_Mercedes-Benz', True, 1),\n",
       " ('Manufacturer_Mini', False, 3),\n",
       " ('Manufacturer_Mitsubishi', True, 1),\n",
       " ('Manufacturer_Nissan', True, 1),\n",
       " ('Manufacturer_OpelCorsa', True, 1),\n",
       " ('Manufacturer_Porsche', True, 1),\n",
       " ('Manufacturer_Renault', True, 1),\n",
       " ('Manufacturer_Skoda', True, 1),\n",
       " ('Manufacturer_Tata', True, 1),\n",
       " ('Manufacturer_Toyota', True, 1),\n",
       " ('Manufacturer_Volkswagen', True, 1),\n",
       " ('Manufacturer_Volvo', True, 1)]"
      ]
     },
     "execution_count": 237,
     "metadata": {},
     "output_type": "execute_result"
    }
   ],
   "source": [
    "list(zip(X_train.columns,rfe.support_,rfe.ranking_))"
   ]
  },
  {
   "cell_type": "code",
   "execution_count": 238,
   "id": "23703455",
   "metadata": {},
   "outputs": [
    {
     "data": {
      "text/plain": [
       "Index(['Years', 'Engine(CC)', 'Power(bhp)', 'Seats', 'First', 'Second',\n",
       "       'Third', 'Manufacturer_Audi', 'Manufacturer_BMW',\n",
       "       'Manufacturer_Bentley', 'Manufacturer_Chevrolet', 'Manufacturer_Datsun',\n",
       "       'Manufacturer_Fiat', 'Manufacturer_Force', 'Manufacturer_Ford',\n",
       "       'Manufacturer_Honda', 'Manufacturer_Hyundai', 'Manufacturer_ISUZU',\n",
       "       'Manufacturer_Jeep', 'Manufacturer_Land', 'Manufacturer_Mahindra',\n",
       "       'Manufacturer_Maruti', 'Manufacturer_Mercedes-Benz',\n",
       "       'Manufacturer_Mitsubishi', 'Manufacturer_Nissan',\n",
       "       'Manufacturer_OpelCorsa', 'Manufacturer_Porsche',\n",
       "       'Manufacturer_Renault', 'Manufacturer_Skoda', 'Manufacturer_Tata',\n",
       "       'Manufacturer_Toyota', 'Manufacturer_Volkswagen', 'Manufacturer_Volvo'],\n",
       "      dtype='object')"
      ]
     },
     "execution_count": 238,
     "metadata": {},
     "output_type": "execute_result"
    }
   ],
   "source": [
    "col = X_train.columns[rfe.support_]\n",
    "col"
   ]
  },
  {
   "cell_type": "code",
   "execution_count": 239,
   "id": "2fcc807d",
   "metadata": {},
   "outputs": [
    {
     "data": {
      "text/plain": [
       "Index(['Kilometers_Driven', 'Transmission', 'Mileage(Kmpl)', 'CNG', 'Diesel',\n",
       "       'Petrol', 'Manufacturer_Ambassador', 'Manufacturer_Isuzu',\n",
       "       'Manufacturer_Lamborghini', 'Manufacturer_Mini'],\n",
       "      dtype='object')"
      ]
     },
     "execution_count": 239,
     "metadata": {},
     "output_type": "execute_result"
    }
   ],
   "source": [
    "X_train.columns[~rfe.support_]"
   ]
  },
  {
   "cell_type": "code",
   "execution_count": 240,
   "id": "b135df38",
   "metadata": {},
   "outputs": [],
   "source": [
    "X_train_rfe = X_train[col]"
   ]
  },
  {
   "cell_type": "code",
   "execution_count": 241,
   "id": "192ca5b1",
   "metadata": {},
   "outputs": [],
   "source": [
    "import statsmodels.api as sm  \n",
    "X_train_rfe_sm = sm.add_constant(X_train_rfe)"
   ]
  },
  {
   "cell_type": "code",
   "execution_count": 242,
   "id": "56c597b8",
   "metadata": {},
   "outputs": [],
   "source": [
    "lm = sm.OLS(y_train,X_train_rfe_sm).fit()"
   ]
  },
  {
   "cell_type": "code",
   "execution_count": 243,
   "id": "a132c75f",
   "metadata": {},
   "outputs": [
    {
     "name": "stdout",
     "output_type": "stream",
     "text": [
      "                            OLS Regression Results                            \n",
      "==============================================================================\n",
      "Dep. Variable:                  Price   R-squared:                       0.665\n",
      "Model:                            OLS   Adj. R-squared:                  0.663\n",
      "Method:                 Least Squares   F-statistic:                     284.1\n",
      "Date:                Fri, 17 Feb 2023   Prob (F-statistic):               0.00\n",
      "Time:                        19:42:39   Log-Likelihood:                 6817.6\n",
      "No. Observations:                4755   AIC:                        -1.357e+04\n",
      "Df Residuals:                    4721   BIC:                        -1.335e+04\n",
      "Df Model:                          33                                         \n",
      "Covariance Type:            nonrobust                                         \n",
      "==============================================================================================\n",
      "                                 coef    std err          t      P>|t|      [0.025      0.975]\n",
      "----------------------------------------------------------------------------------------------\n",
      "const                          0.1983      0.028      7.115      0.000       0.144       0.253\n",
      "Years                         -0.1802      0.006    -28.157      0.000      -0.193      -0.168\n",
      "Engine(CC)                     0.1256      0.024      5.314      0.000       0.079       0.172\n",
      "Power(bhp)                     0.3350      0.025     13.349      0.000       0.286       0.384\n",
      "Seats                          0.0412      0.013      3.247      0.001       0.016       0.066\n",
      "First                         -0.0275      0.026     -1.056      0.291      -0.078       0.024\n",
      "Second                        -0.0296      0.026     -1.138      0.255      -0.081       0.021\n",
      "Third                         -0.0285      0.027     -1.060      0.289      -0.081       0.024\n",
      "Manufacturer_Audi             -0.0576      0.008     -6.793      0.000      -0.074      -0.041\n",
      "Manufacturer_BMW              -0.0608      0.008     -7.165      0.000      -0.077      -0.044\n",
      "Manufacturer_Bentley           0.0579      0.059      0.976      0.329      -0.058       0.174\n",
      "Manufacturer_Chevrolet        -0.1361      0.010    -13.642      0.000      -0.156      -0.117\n",
      "Manufacturer_Datsun           -0.1493      0.017     -8.675      0.000      -0.183      -0.116\n",
      "Manufacturer_Fiat             -0.1395      0.015     -9.479      0.000      -0.168      -0.111\n",
      "Manufacturer_Force            -0.1618      0.042     -3.871      0.000      -0.244      -0.080\n",
      "Manufacturer_Ford             -0.1321      0.009    -14.750      0.000      -0.150      -0.115\n",
      "Manufacturer_Honda            -0.1482      0.008    -17.901      0.000      -0.164      -0.132\n",
      "Manufacturer_Hyundai          -0.1366      0.008    -16.565      0.000      -0.153      -0.120\n",
      "Manufacturer_ISUZU            -0.1653      0.042     -3.953      0.000      -0.247      -0.083\n",
      "Manufacturer_Jeep             -0.1128      0.021     -5.441      0.000      -0.153      -0.072\n",
      "Manufacturer_Land              0.0747      0.012      6.243      0.000       0.051       0.098\n",
      "Manufacturer_Mahindra         -0.1629      0.009    -17.164      0.000      -0.182      -0.144\n",
      "Manufacturer_Maruti           -0.1274      0.008    -15.064      0.000      -0.144      -0.111\n",
      "Manufacturer_Mercedes-Benz    -0.0560      0.008     -6.739      0.000      -0.072      -0.040\n",
      "Manufacturer_Mitsubishi       -0.1455      0.014    -10.362      0.000      -0.173      -0.118\n",
      "Manufacturer_Nissan           -0.1364      0.011    -12.909      0.000      -0.157      -0.116\n",
      "Manufacturer_OpelCorsa        -0.0241      0.059     -0.412      0.680      -0.139       0.091\n",
      "Manufacturer_Porsche           0.0897      0.017      5.155      0.000       0.056       0.124\n",
      "Manufacturer_Renault          -0.1420      0.010    -14.689      0.000      -0.161      -0.123\n",
      "Manufacturer_Skoda            -0.1406      0.009    -15.274      0.000      -0.159      -0.123\n",
      "Manufacturer_Tata             -0.1458      0.009    -15.353      0.000      -0.164      -0.127\n",
      "Manufacturer_Toyota           -0.1312      0.009    -14.422      0.000      -0.149      -0.113\n",
      "Manufacturer_Volkswagen       -0.1412      0.009    -16.101      0.000      -0.158      -0.124\n",
      "Manufacturer_Volvo            -0.1185      0.015     -7.922      0.000      -0.148      -0.089\n",
      "==============================================================================\n",
      "Omnibus:                     2154.561   Durbin-Watson:                   2.010\n",
      "Prob(Omnibus):                  0.000   Jarque-Bera (JB):            64419.848\n",
      "Skew:                           1.555   Prob(JB):                         0.00\n",
      "Kurtosis:                      20.762   Cond. No.                         104.\n",
      "==============================================================================\n",
      "\n",
      "Notes:\n",
      "[1] Standard Errors assume that the covariance matrix of the errors is correctly specified.\n"
     ]
    }
   ],
   "source": [
    "print(lm.summary())"
   ]
  },
  {
   "cell_type": "code",
   "execution_count": 244,
   "id": "e439421c",
   "metadata": {},
   "outputs": [],
   "source": [
    "X_train_rfe1=X_train_rfe.drop(\"First\",axis=1)"
   ]
  },
  {
   "cell_type": "code",
   "execution_count": 245,
   "id": "506bebec",
   "metadata": {},
   "outputs": [
    {
     "data": {
      "text/html": [
       "<div>\n",
       "<style scoped>\n",
       "    .dataframe tbody tr th:only-of-type {\n",
       "        vertical-align: middle;\n",
       "    }\n",
       "\n",
       "    .dataframe tbody tr th {\n",
       "        vertical-align: top;\n",
       "    }\n",
       "\n",
       "    .dataframe thead th {\n",
       "        text-align: right;\n",
       "    }\n",
       "</style>\n",
       "<table border=\"1\" class=\"dataframe\">\n",
       "  <thead>\n",
       "    <tr style=\"text-align: right;\">\n",
       "      <th></th>\n",
       "      <th>Years</th>\n",
       "      <th>Engine(CC)</th>\n",
       "      <th>Power(bhp)</th>\n",
       "      <th>Seats</th>\n",
       "      <th>Second</th>\n",
       "      <th>Third</th>\n",
       "      <th>Manufacturer_Audi</th>\n",
       "      <th>Manufacturer_BMW</th>\n",
       "      <th>Manufacturer_Bentley</th>\n",
       "      <th>Manufacturer_Chevrolet</th>\n",
       "      <th>...</th>\n",
       "      <th>Manufacturer_Mitsubishi</th>\n",
       "      <th>Manufacturer_Nissan</th>\n",
       "      <th>Manufacturer_OpelCorsa</th>\n",
       "      <th>Manufacturer_Porsche</th>\n",
       "      <th>Manufacturer_Renault</th>\n",
       "      <th>Manufacturer_Skoda</th>\n",
       "      <th>Manufacturer_Tata</th>\n",
       "      <th>Manufacturer_Toyota</th>\n",
       "      <th>Manufacturer_Volkswagen</th>\n",
       "      <th>Manufacturer_Volvo</th>\n",
       "    </tr>\n",
       "  </thead>\n",
       "  <tbody>\n",
       "    <tr>\n",
       "      <th>2975</th>\n",
       "      <td>0.238095</td>\n",
       "      <td>0.106624</td>\n",
       "      <td>0.099652</td>\n",
       "      <td>0.375</td>\n",
       "      <td>1</td>\n",
       "      <td>0</td>\n",
       "      <td>0</td>\n",
       "      <td>0</td>\n",
       "      <td>0</td>\n",
       "      <td>0</td>\n",
       "      <td>...</td>\n",
       "      <td>0</td>\n",
       "      <td>0</td>\n",
       "      <td>0</td>\n",
       "      <td>0</td>\n",
       "      <td>0</td>\n",
       "      <td>0</td>\n",
       "      <td>0</td>\n",
       "      <td>0</td>\n",
       "      <td>0</td>\n",
       "      <td>0</td>\n",
       "    </tr>\n",
       "    <tr>\n",
       "      <th>4100</th>\n",
       "      <td>0.333333</td>\n",
       "      <td>0.106997</td>\n",
       "      <td>0.076671</td>\n",
       "      <td>0.375</td>\n",
       "      <td>0</td>\n",
       "      <td>0</td>\n",
       "      <td>0</td>\n",
       "      <td>0</td>\n",
       "      <td>0</td>\n",
       "      <td>0</td>\n",
       "      <td>...</td>\n",
       "      <td>0</td>\n",
       "      <td>0</td>\n",
       "      <td>0</td>\n",
       "      <td>0</td>\n",
       "      <td>0</td>\n",
       "      <td>0</td>\n",
       "      <td>0</td>\n",
       "      <td>0</td>\n",
       "      <td>1</td>\n",
       "      <td>0</td>\n",
       "    </tr>\n",
       "    <tr>\n",
       "      <th>4400</th>\n",
       "      <td>0.380952</td>\n",
       "      <td>0.181243</td>\n",
       "      <td>0.133835</td>\n",
       "      <td>0.375</td>\n",
       "      <td>0</td>\n",
       "      <td>0</td>\n",
       "      <td>0</td>\n",
       "      <td>0</td>\n",
       "      <td>0</td>\n",
       "      <td>0</td>\n",
       "      <td>...</td>\n",
       "      <td>0</td>\n",
       "      <td>0</td>\n",
       "      <td>0</td>\n",
       "      <td>0</td>\n",
       "      <td>0</td>\n",
       "      <td>0</td>\n",
       "      <td>0</td>\n",
       "      <td>0</td>\n",
       "      <td>1</td>\n",
       "      <td>0</td>\n",
       "    </tr>\n",
       "    <tr>\n",
       "      <th>2776</th>\n",
       "      <td>0.095238</td>\n",
       "      <td>0.116115</td>\n",
       "      <td>0.076864</td>\n",
       "      <td>0.375</td>\n",
       "      <td>0</td>\n",
       "      <td>0</td>\n",
       "      <td>0</td>\n",
       "      <td>0</td>\n",
       "      <td>0</td>\n",
       "      <td>0</td>\n",
       "      <td>...</td>\n",
       "      <td>0</td>\n",
       "      <td>0</td>\n",
       "      <td>0</td>\n",
       "      <td>0</td>\n",
       "      <td>0</td>\n",
       "      <td>0</td>\n",
       "      <td>0</td>\n",
       "      <td>0</td>\n",
       "      <td>0</td>\n",
       "      <td>0</td>\n",
       "    </tr>\n",
       "    <tr>\n",
       "      <th>5951</th>\n",
       "      <td>0.238095</td>\n",
       "      <td>0.162449</td>\n",
       "      <td>0.161839</td>\n",
       "      <td>0.375</td>\n",
       "      <td>0</td>\n",
       "      <td>0</td>\n",
       "      <td>0</td>\n",
       "      <td>0</td>\n",
       "      <td>0</td>\n",
       "      <td>0</td>\n",
       "      <td>...</td>\n",
       "      <td>0</td>\n",
       "      <td>0</td>\n",
       "      <td>0</td>\n",
       "      <td>0</td>\n",
       "      <td>0</td>\n",
       "      <td>0</td>\n",
       "      <td>0</td>\n",
       "      <td>0</td>\n",
       "      <td>0</td>\n",
       "      <td>0</td>\n",
       "    </tr>\n",
       "  </tbody>\n",
       "</table>\n",
       "<p>5 rows × 32 columns</p>\n",
       "</div>"
      ],
      "text/plain": [
       "         Years  Engine(CC)  Power(bhp)  Seats  Second  Third  \\\n",
       "2975  0.238095    0.106624    0.099652  0.375       1      0   \n",
       "4100  0.333333    0.106997    0.076671  0.375       0      0   \n",
       "4400  0.380952    0.181243    0.133835  0.375       0      0   \n",
       "2776  0.095238    0.116115    0.076864  0.375       0      0   \n",
       "5951  0.238095    0.162449    0.161839  0.375       0      0   \n",
       "\n",
       "      Manufacturer_Audi  Manufacturer_BMW  Manufacturer_Bentley  \\\n",
       "2975                  0                 0                     0   \n",
       "4100                  0                 0                     0   \n",
       "4400                  0                 0                     0   \n",
       "2776                  0                 0                     0   \n",
       "5951                  0                 0                     0   \n",
       "\n",
       "      Manufacturer_Chevrolet  ...  Manufacturer_Mitsubishi  \\\n",
       "2975                       0  ...                        0   \n",
       "4100                       0  ...                        0   \n",
       "4400                       0  ...                        0   \n",
       "2776                       0  ...                        0   \n",
       "5951                       0  ...                        0   \n",
       "\n",
       "      Manufacturer_Nissan  Manufacturer_OpelCorsa  Manufacturer_Porsche  \\\n",
       "2975                    0                       0                     0   \n",
       "4100                    0                       0                     0   \n",
       "4400                    0                       0                     0   \n",
       "2776                    0                       0                     0   \n",
       "5951                    0                       0                     0   \n",
       "\n",
       "      Manufacturer_Renault  Manufacturer_Skoda  Manufacturer_Tata  \\\n",
       "2975                     0                   0                  0   \n",
       "4100                     0                   0                  0   \n",
       "4400                     0                   0                  0   \n",
       "2776                     0                   0                  0   \n",
       "5951                     0                   0                  0   \n",
       "\n",
       "      Manufacturer_Toyota  Manufacturer_Volkswagen  Manufacturer_Volvo  \n",
       "2975                    0                        0                   0  \n",
       "4100                    0                        1                   0  \n",
       "4400                    0                        1                   0  \n",
       "2776                    0                        0                   0  \n",
       "5951                    0                        0                   0  \n",
       "\n",
       "[5 rows x 32 columns]"
      ]
     },
     "execution_count": 245,
     "metadata": {},
     "output_type": "execute_result"
    }
   ],
   "source": [
    "X_train_rfe1.head()"
   ]
  },
  {
   "cell_type": "code",
   "execution_count": 246,
   "id": "334fb6dd",
   "metadata": {},
   "outputs": [],
   "source": [
    "X_train_rfe1_sm=sm.add_constant(X_train_rfe1)\n",
    "lm2=sm.OLS(y_train,X_train_rfe1_sm).fit()"
   ]
  },
  {
   "cell_type": "code",
   "execution_count": 247,
   "id": "b240f5bb",
   "metadata": {},
   "outputs": [
    {
     "name": "stdout",
     "output_type": "stream",
     "text": [
      "                            OLS Regression Results                            \n",
      "==============================================================================\n",
      "Dep. Variable:                  Price   R-squared:                       0.665\n",
      "Model:                            OLS   Adj. R-squared:                  0.663\n",
      "Method:                 Least Squares   F-statistic:                     292.9\n",
      "Date:                Fri, 17 Feb 2023   Prob (F-statistic):               0.00\n",
      "Time:                        19:43:06   Log-Likelihood:                 6817.1\n",
      "No. Observations:                4755   AIC:                        -1.357e+04\n",
      "Df Residuals:                    4722   BIC:                        -1.335e+04\n",
      "Df Model:                          32                                         \n",
      "Covariance Type:            nonrobust                                         \n",
      "==============================================================================================\n",
      "                                 coef    std err          t      P>|t|      [0.025      0.975]\n",
      "----------------------------------------------------------------------------------------------\n",
      "const                          0.1706      0.009     18.103      0.000       0.152       0.189\n",
      "Years                         -0.1797      0.006    -28.155      0.000      -0.192      -0.167\n",
      "Engine(CC)                     0.1251      0.024      5.294      0.000       0.079       0.171\n",
      "Power(bhp)                     0.3354      0.025     13.368      0.000       0.286       0.385\n",
      "Seats                          0.0417      0.013      3.284      0.001       0.017       0.067\n",
      "Second                        -0.0023      0.002     -0.911      0.362      -0.007       0.003\n",
      "Third                         -0.0012      0.007     -0.162      0.871      -0.016       0.013\n",
      "Manufacturer_Audi             -0.0576      0.008     -6.797      0.000      -0.074      -0.041\n",
      "Manufacturer_BMW              -0.0609      0.008     -7.170      0.000      -0.077      -0.044\n",
      "Manufacturer_Bentley           0.0578      0.059      0.974      0.330      -0.059       0.174\n",
      "Manufacturer_Chevrolet        -0.1362      0.010    -13.649      0.000      -0.156      -0.117\n",
      "Manufacturer_Datsun           -0.1494      0.017     -8.675      0.000      -0.183      -0.116\n",
      "Manufacturer_Fiat             -0.1395      0.015     -9.480      0.000      -0.168      -0.111\n",
      "Manufacturer_Force            -0.1619      0.042     -3.874      0.000      -0.244      -0.080\n",
      "Manufacturer_Ford             -0.1319      0.009    -14.739      0.000      -0.149      -0.114\n",
      "Manufacturer_Honda            -0.1482      0.008    -17.906      0.000      -0.164      -0.132\n",
      "Manufacturer_Hyundai          -0.1366      0.008    -16.565      0.000      -0.153      -0.120\n",
      "Manufacturer_ISUZU            -0.1652      0.042     -3.950      0.000      -0.247      -0.083\n",
      "Manufacturer_Jeep             -0.1127      0.021     -5.439      0.000      -0.153      -0.072\n",
      "Manufacturer_Land              0.0747      0.012      6.243      0.000       0.051       0.098\n",
      "Manufacturer_Mahindra         -0.1630      0.009    -17.173      0.000      -0.182      -0.144\n",
      "Manufacturer_Maruti           -0.1274      0.008    -15.060      0.000      -0.144      -0.111\n",
      "Manufacturer_Mercedes-Benz    -0.0560      0.008     -6.743      0.000      -0.072      -0.040\n",
      "Manufacturer_Mitsubishi       -0.1455      0.014    -10.367      0.000      -0.173      -0.118\n",
      "Manufacturer_Nissan           -0.1364      0.011    -12.911      0.000      -0.157      -0.116\n",
      "Manufacturer_OpelCorsa        -0.0243      0.059     -0.415      0.679      -0.139       0.090\n",
      "Manufacturer_Porsche           0.0898      0.017      5.156      0.000       0.056       0.124\n",
      "Manufacturer_Renault          -0.1420      0.010    -14.689      0.000      -0.161      -0.123\n",
      "Manufacturer_Skoda            -0.1407      0.009    -15.279      0.000      -0.159      -0.123\n",
      "Manufacturer_Tata             -0.1458      0.009    -15.354      0.000      -0.164      -0.127\n",
      "Manufacturer_Toyota           -0.1312      0.009    -14.428      0.000      -0.149      -0.113\n",
      "Manufacturer_Volkswagen       -0.1412      0.009    -16.104      0.000      -0.158      -0.124\n",
      "Manufacturer_Volvo            -0.1186      0.015     -7.925      0.000      -0.148      -0.089\n",
      "==============================================================================\n",
      "Omnibus:                     2155.396   Durbin-Watson:                   2.010\n",
      "Prob(Omnibus):                  0.000   Jarque-Bera (JB):            64434.190\n",
      "Skew:                           1.556   Prob(JB):                         0.00\n",
      "Kurtosis:                      20.763   Cond. No.                         85.1\n",
      "==============================================================================\n",
      "\n",
      "Notes:\n",
      "[1] Standard Errors assume that the covariance matrix of the errors is correctly specified.\n"
     ]
    }
   ],
   "source": [
    "print(lm2.summary())"
   ]
  },
  {
   "cell_type": "code",
   "execution_count": 248,
   "id": "9349bc3f",
   "metadata": {},
   "outputs": [],
   "source": [
    "X_train_rfe2=X_train_rfe1.drop(\"Third\",axis=1)"
   ]
  },
  {
   "cell_type": "code",
   "execution_count": 249,
   "id": "758128b7",
   "metadata": {},
   "outputs": [],
   "source": [
    "X_train_rfe2_sm=sm.add_constant(X_train_rfe2)\n",
    "lm3=sm.OLS(y_train,X_train_rfe2_sm).fit()"
   ]
  },
  {
   "cell_type": "code",
   "execution_count": 250,
   "id": "2c954ae5",
   "metadata": {},
   "outputs": [
    {
     "name": "stdout",
     "output_type": "stream",
     "text": [
      "                            OLS Regression Results                            \n",
      "==============================================================================\n",
      "Dep. Variable:                  Price   R-squared:                       0.665\n",
      "Model:                            OLS   Adj. R-squared:                  0.663\n",
      "Method:                 Least Squares   F-statistic:                     302.4\n",
      "Date:                Fri, 17 Feb 2023   Prob (F-statistic):               0.00\n",
      "Time:                        19:43:18   Log-Likelihood:                 6817.1\n",
      "No. Observations:                4755   AIC:                        -1.357e+04\n",
      "Df Residuals:                    4723   BIC:                        -1.336e+04\n",
      "Df Model:                          31                                         \n",
      "Covariance Type:            nonrobust                                         \n",
      "==============================================================================================\n",
      "                                 coef    std err          t      P>|t|      [0.025      0.975]\n",
      "----------------------------------------------------------------------------------------------\n",
      "const                          0.1707      0.009     18.136      0.000       0.152       0.189\n",
      "Years                         -0.1799      0.006    -28.878      0.000      -0.192      -0.168\n",
      "Engine(CC)                     0.1252      0.024      5.298      0.000       0.079       0.172\n",
      "Power(bhp)                     0.3353      0.025     13.373      0.000       0.286       0.384\n",
      "Seats                          0.0417      0.013      3.283      0.001       0.017       0.067\n",
      "Second                        -0.0022      0.002     -0.898      0.369      -0.007       0.003\n",
      "Manufacturer_Audi             -0.0576      0.008     -6.798      0.000      -0.074      -0.041\n",
      "Manufacturer_BMW              -0.0609      0.008     -7.172      0.000      -0.077      -0.044\n",
      "Manufacturer_Bentley           0.0579      0.059      0.977      0.329      -0.058       0.174\n",
      "Manufacturer_Chevrolet        -0.1363      0.010    -13.672      0.000      -0.156      -0.117\n",
      "Manufacturer_Datsun           -0.1494      0.017     -8.679      0.000      -0.183      -0.116\n",
      "Manufacturer_Fiat             -0.1396      0.015     -9.482      0.000      -0.168      -0.111\n",
      "Manufacturer_Force            -0.1619      0.042     -3.874      0.000      -0.244      -0.080\n",
      "Manufacturer_Ford             -0.1320      0.009    -14.754      0.000      -0.150      -0.114\n",
      "Manufacturer_Honda            -0.1482      0.008    -17.914      0.000      -0.164      -0.132\n",
      "Manufacturer_Hyundai          -0.1366      0.008    -16.570      0.000      -0.153      -0.120\n",
      "Manufacturer_ISUZU            -0.1652      0.042     -3.952      0.000      -0.247      -0.083\n",
      "Manufacturer_Jeep             -0.1127      0.021     -5.441      0.000      -0.153      -0.072\n",
      "Manufacturer_Land              0.0747      0.012      6.243      0.000       0.051       0.098\n",
      "Manufacturer_Mahindra         -0.1631      0.009    -17.180      0.000      -0.182      -0.144\n",
      "Manufacturer_Maruti           -0.1274      0.008    -15.067      0.000      -0.144      -0.111\n",
      "Manufacturer_Mercedes-Benz    -0.0560      0.008     -6.744      0.000      -0.072      -0.040\n",
      "Manufacturer_Mitsubishi       -0.1456      0.014    -10.380      0.000      -0.173      -0.118\n",
      "Manufacturer_Nissan           -0.1364      0.011    -12.916      0.000      -0.157      -0.116\n",
      "Manufacturer_OpelCorsa        -0.0242      0.059     -0.414      0.679      -0.139       0.091\n",
      "Manufacturer_Porsche           0.0898      0.017      5.157      0.000       0.056       0.124\n",
      "Manufacturer_Renault          -0.1420      0.010    -14.694      0.000      -0.161      -0.123\n",
      "Manufacturer_Skoda            -0.1407      0.009    -15.280      0.000      -0.159      -0.123\n",
      "Manufacturer_Tata             -0.1458      0.009    -15.364      0.000      -0.164      -0.127\n",
      "Manufacturer_Toyota           -0.1312      0.009    -14.434      0.000      -0.149      -0.113\n",
      "Manufacturer_Volkswagen       -0.1413      0.009    -16.113      0.000      -0.158      -0.124\n",
      "Manufacturer_Volvo            -0.1186      0.015     -7.926      0.000      -0.148      -0.089\n",
      "==============================================================================\n",
      "Omnibus:                     2155.118   Durbin-Watson:                   2.010\n",
      "Prob(Omnibus):                  0.000   Jarque-Bera (JB):            64433.206\n",
      "Skew:                           1.555   Prob(JB):                         0.00\n",
      "Kurtosis:                      20.763   Cond. No.                         85.1\n",
      "==============================================================================\n",
      "\n",
      "Notes:\n",
      "[1] Standard Errors assume that the covariance matrix of the errors is correctly specified.\n"
     ]
    }
   ],
   "source": [
    "print(lm3.summary())"
   ]
  },
  {
   "cell_type": "code",
   "execution_count": 251,
   "id": "6f9f5f75",
   "metadata": {},
   "outputs": [],
   "source": [
    "X_train_rfe3=X_train_rfe2.drop(\"Second\",axis=1)"
   ]
  },
  {
   "cell_type": "code",
   "execution_count": 252,
   "id": "ed1132e6",
   "metadata": {},
   "outputs": [],
   "source": [
    "X_train_rfe3_sm=sm.add_constant(X_train_rfe3)\n",
    "lm4=sm.OLS(y_train,X_train_rfe3_sm).fit()"
   ]
  },
  {
   "cell_type": "code",
   "execution_count": 253,
   "id": "5b50dc15",
   "metadata": {},
   "outputs": [
    {
     "name": "stdout",
     "output_type": "stream",
     "text": [
      "                            OLS Regression Results                            \n",
      "==============================================================================\n",
      "Dep. Variable:                  Price   R-squared:                       0.665\n",
      "Model:                            OLS   Adj. R-squared:                  0.663\n",
      "Method:                 Least Squares   F-statistic:                     312.5\n",
      "Date:                Fri, 17 Feb 2023   Prob (F-statistic):               0.00\n",
      "Time:                        19:43:29   Log-Likelihood:                 6816.7\n",
      "No. Observations:                4755   AIC:                        -1.357e+04\n",
      "Df Residuals:                    4724   BIC:                        -1.337e+04\n",
      "Df Model:                          30                                         \n",
      "Covariance Type:            nonrobust                                         \n",
      "==============================================================================================\n",
      "                                 coef    std err          t      P>|t|      [0.025      0.975]\n",
      "----------------------------------------------------------------------------------------------\n",
      "const                          0.1708      0.009     18.140      0.000       0.152       0.189\n",
      "Years                         -0.1816      0.006    -30.570      0.000      -0.193      -0.170\n",
      "Engine(CC)                     0.1256      0.024      5.313      0.000       0.079       0.172\n",
      "Power(bhp)                     0.3351      0.025     13.367      0.000       0.286       0.384\n",
      "Seats                          0.0416      0.013      3.280      0.001       0.017       0.067\n",
      "Manufacturer_Audi             -0.0577      0.008     -6.807      0.000      -0.074      -0.041\n",
      "Manufacturer_BMW              -0.0608      0.008     -7.170      0.000      -0.077      -0.044\n",
      "Manufacturer_Bentley           0.0588      0.059      0.991      0.322      -0.057       0.175\n",
      "Manufacturer_Chevrolet        -0.1362      0.010    -13.669      0.000      -0.156      -0.117\n",
      "Manufacturer_Datsun           -0.1492      0.017     -8.670      0.000      -0.183      -0.115\n",
      "Manufacturer_Fiat             -0.1397      0.015     -9.492      0.000      -0.169      -0.111\n",
      "Manufacturer_Force            -0.1616      0.042     -3.866      0.000      -0.244      -0.080\n",
      "Manufacturer_Ford             -0.1319      0.009    -14.747      0.000      -0.149      -0.114\n",
      "Manufacturer_Honda            -0.1481      0.008    -17.904      0.000      -0.164      -0.132\n",
      "Manufacturer_Hyundai          -0.1366      0.008    -16.564      0.000      -0.153      -0.120\n",
      "Manufacturer_ISUZU            -0.1652      0.042     -3.952      0.000      -0.247      -0.083\n",
      "Manufacturer_Jeep             -0.1127      0.021     -5.440      0.000      -0.153      -0.072\n",
      "Manufacturer_Land              0.0743      0.012      6.213      0.000       0.051       0.098\n",
      "Manufacturer_Mahindra         -0.1631      0.009    -17.181      0.000      -0.182      -0.144\n",
      "Manufacturer_Maruti           -0.1273      0.008    -15.056      0.000      -0.144      -0.111\n",
      "Manufacturer_Mercedes-Benz    -0.0560      0.008     -6.743      0.000      -0.072      -0.040\n",
      "Manufacturer_Mitsubishi       -0.1455      0.014    -10.372      0.000      -0.173      -0.118\n",
      "Manufacturer_Nissan           -0.1364      0.011    -12.911      0.000      -0.157      -0.116\n",
      "Manufacturer_OpelCorsa        -0.0253      0.059     -0.433      0.665      -0.140       0.089\n",
      "Manufacturer_Porsche           0.0894      0.017      5.139      0.000       0.055       0.124\n",
      "Manufacturer_Renault          -0.1420      0.010    -14.695      0.000      -0.161      -0.123\n",
      "Manufacturer_Skoda            -0.1405      0.009    -15.268      0.000      -0.159      -0.122\n",
      "Manufacturer_Tata             -0.1459      0.009    -15.376      0.000      -0.165      -0.127\n",
      "Manufacturer_Toyota           -0.1313      0.009    -14.438      0.000      -0.149      -0.113\n",
      "Manufacturer_Volkswagen       -0.1412      0.009    -16.104      0.000      -0.158      -0.124\n",
      "Manufacturer_Volvo            -0.1187      0.015     -7.937      0.000      -0.148      -0.089\n",
      "==============================================================================\n",
      "Omnibus:                     2155.430   Durbin-Watson:                   2.009\n",
      "Prob(Omnibus):                  0.000   Jarque-Bera (JB):            64377.895\n",
      "Skew:                           1.556   Prob(JB):                         0.00\n",
      "Kurtosis:                      20.755   Cond. No.                         84.3\n",
      "==============================================================================\n",
      "\n",
      "Notes:\n",
      "[1] Standard Errors assume that the covariance matrix of the errors is correctly specified.\n"
     ]
    }
   ],
   "source": [
    "print(lm4.summary())"
   ]
  },
  {
   "cell_type": "code",
   "execution_count": 254,
   "id": "8ceea120",
   "metadata": {},
   "outputs": [],
   "source": [
    "X_train_rfe4=X_train_rfe3.drop(\"Manufacturer_OpelCorsa\",axis=1)"
   ]
  },
  {
   "cell_type": "code",
   "execution_count": 255,
   "id": "011b8147",
   "metadata": {},
   "outputs": [],
   "source": [
    "X_train_rfe4_sm=sm.add_constant(X_train_rfe4)\n",
    "lm5=sm.OLS(y_train,X_train_rfe4_sm).fit()"
   ]
  },
  {
   "cell_type": "code",
   "execution_count": 256,
   "id": "e45c5242",
   "metadata": {},
   "outputs": [
    {
     "name": "stdout",
     "output_type": "stream",
     "text": [
      "                            OLS Regression Results                            \n",
      "==============================================================================\n",
      "Dep. Variable:                  Price   R-squared:                       0.665\n",
      "Model:                            OLS   Adj. R-squared:                  0.663\n",
      "Method:                 Least Squares   F-statistic:                     323.3\n",
      "Date:                Fri, 17 Feb 2023   Prob (F-statistic):               0.00\n",
      "Time:                        19:43:39   Log-Likelihood:                 6816.6\n",
      "No. Observations:                4755   AIC:                        -1.357e+04\n",
      "Df Residuals:                    4725   BIC:                        -1.338e+04\n",
      "Df Model:                          29                                         \n",
      "Covariance Type:            nonrobust                                         \n",
      "==============================================================================================\n",
      "                                 coef    std err          t      P>|t|      [0.025      0.975]\n",
      "----------------------------------------------------------------------------------------------\n",
      "const                          0.1703      0.009     18.205      0.000       0.152       0.189\n",
      "Years                         -0.1817      0.006    -30.620      0.000      -0.193      -0.170\n",
      "Engine(CC)                     0.1256      0.024      5.314      0.000       0.079       0.172\n",
      "Power(bhp)                     0.3354      0.025     13.386      0.000       0.286       0.385\n",
      "Seats                          0.0415      0.013      3.273      0.001       0.017       0.066\n",
      "Manufacturer_Audi             -0.0573      0.008     -6.804      0.000      -0.074      -0.041\n",
      "Manufacturer_BMW              -0.0604      0.008     -7.167      0.000      -0.077      -0.044\n",
      "Manufacturer_Bentley           0.0590      0.059      0.995      0.320      -0.057       0.175\n",
      "Manufacturer_Chevrolet        -0.1357      0.010    -13.711      0.000      -0.155      -0.116\n",
      "Manufacturer_Datsun           -0.1487      0.017     -8.661      0.000      -0.182      -0.115\n",
      "Manufacturer_Fiat             -0.1392      0.015     -9.487      0.000      -0.168      -0.110\n",
      "Manufacturer_Force            -0.1611      0.042     -3.857      0.000      -0.243      -0.079\n",
      "Manufacturer_Ford             -0.1314      0.009    -14.809      0.000      -0.149      -0.114\n",
      "Manufacturer_Honda            -0.1477      0.008    -18.007      0.000      -0.164      -0.132\n",
      "Manufacturer_Hyundai          -0.1361      0.008    -16.658      0.000      -0.152      -0.120\n",
      "Manufacturer_ISUZU            -0.1648      0.042     -3.943      0.000      -0.247      -0.083\n",
      "Manufacturer_Jeep             -0.1123      0.021     -5.426      0.000      -0.153      -0.072\n",
      "Manufacturer_Land              0.0747      0.012      6.269      0.000       0.051       0.098\n",
      "Manufacturer_Mahindra         -0.1626      0.009    -17.252      0.000      -0.181      -0.144\n",
      "Manufacturer_Maruti           -0.1268      0.008    -15.137      0.000      -0.143      -0.110\n",
      "Manufacturer_Mercedes-Benz    -0.0556      0.008     -6.739      0.000      -0.072      -0.039\n",
      "Manufacturer_Mitsubishi       -0.1450      0.014    -10.370      0.000      -0.172      -0.118\n",
      "Manufacturer_Nissan           -0.1359      0.011    -12.939      0.000      -0.156      -0.115\n",
      "Manufacturer_Porsche           0.0898      0.017      5.164      0.000       0.056       0.124\n",
      "Manufacturer_Renault          -0.1415      0.010    -14.743      0.000      -0.160      -0.123\n",
      "Manufacturer_Skoda            -0.1401      0.009    -15.324      0.000      -0.158      -0.122\n",
      "Manufacturer_Tata             -0.1455      0.009    -15.435      0.000      -0.164      -0.127\n",
      "Manufacturer_Toyota           -0.1308      0.009    -14.493      0.000      -0.148      -0.113\n",
      "Manufacturer_Volkswagen       -0.1407      0.009    -16.180      0.000      -0.158      -0.124\n",
      "Manufacturer_Volvo            -0.1183      0.015     -7.927      0.000      -0.148      -0.089\n",
      "==============================================================================\n",
      "Omnibus:                     2155.277   Durbin-Watson:                   2.010\n",
      "Prob(Omnibus):                  0.000   Jarque-Bera (JB):            64346.729\n",
      "Skew:                           1.556   Prob(JB):                         0.00\n",
      "Kurtosis:                      20.751   Cond. No.                         83.9\n",
      "==============================================================================\n",
      "\n",
      "Notes:\n",
      "[1] Standard Errors assume that the covariance matrix of the errors is correctly specified.\n"
     ]
    }
   ],
   "source": [
    "print(lm5.summary())"
   ]
  },
  {
   "cell_type": "code",
   "execution_count": 257,
   "id": "38810b49",
   "metadata": {},
   "outputs": [],
   "source": [
    "X_train_rfe5=X_train_rfe4.drop(\"Manufacturer_Bentley\",axis=1)"
   ]
  },
  {
   "cell_type": "code",
   "execution_count": 258,
   "id": "45c9ed39",
   "metadata": {},
   "outputs": [],
   "source": [
    "X_train_rfe5_sm=sm.add_constant(X_train_rfe5)\n",
    "lm6=sm.OLS(y_train,X_train_rfe5_sm).fit()"
   ]
  },
  {
   "cell_type": "code",
   "execution_count": 259,
   "id": "d4249a5d",
   "metadata": {},
   "outputs": [
    {
     "name": "stdout",
     "output_type": "stream",
     "text": [
      "                            OLS Regression Results                            \n",
      "==============================================================================\n",
      "Dep. Variable:                  Price   R-squared:                       0.665\n",
      "Model:                            OLS   Adj. R-squared:                  0.663\n",
      "Method:                 Least Squares   F-statistic:                     334.9\n",
      "Date:                Fri, 17 Feb 2023   Prob (F-statistic):               0.00\n",
      "Time:                        19:43:49   Log-Likelihood:                 6816.1\n",
      "No. Observations:                4755   AIC:                        -1.357e+04\n",
      "Df Residuals:                    4726   BIC:                        -1.339e+04\n",
      "Df Model:                          28                                         \n",
      "Covariance Type:            nonrobust                                         \n",
      "==============================================================================================\n",
      "                                 coef    std err          t      P>|t|      [0.025      0.975]\n",
      "----------------------------------------------------------------------------------------------\n",
      "const                          0.1706      0.009     18.252      0.000       0.152       0.189\n",
      "Years                         -0.1815      0.006    -30.604      0.000      -0.193      -0.170\n",
      "Engine(CC)                     0.1265      0.024      5.359      0.000       0.080       0.173\n",
      "Power(bhp)                     0.3370      0.025     13.474      0.000       0.288       0.386\n",
      "Seats                          0.0408      0.013      3.223      0.001       0.016       0.066\n",
      "Manufacturer_Audi             -0.0581      0.008     -6.938      0.000      -0.075      -0.042\n",
      "Manufacturer_BMW              -0.0614      0.008     -7.329      0.000      -0.078      -0.045\n",
      "Manufacturer_Chevrolet        -0.1361      0.010    -13.764      0.000      -0.156      -0.117\n",
      "Manufacturer_Datsun           -0.1489      0.017     -8.672      0.000      -0.183      -0.115\n",
      "Manufacturer_Fiat             -0.1396      0.015     -9.519      0.000      -0.168      -0.111\n",
      "Manufacturer_Force            -0.1616      0.042     -3.870      0.000      -0.244      -0.080\n",
      "Manufacturer_Ford             -0.1319      0.009    -14.879      0.000      -0.149      -0.115\n",
      "Manufacturer_Honda            -0.1481      0.008    -18.099      0.000      -0.164      -0.132\n",
      "Manufacturer_Hyundai          -0.1365      0.008    -16.729      0.000      -0.153      -0.121\n",
      "Manufacturer_ISUZU            -0.1655      0.042     -3.960      0.000      -0.247      -0.084\n",
      "Manufacturer_Jeep             -0.1130      0.021     -5.463      0.000      -0.154      -0.072\n",
      "Manufacturer_Land              0.0738      0.012      6.211      0.000       0.050       0.097\n",
      "Manufacturer_Mahindra         -0.1630      0.009    -17.321      0.000      -0.181      -0.145\n",
      "Manufacturer_Maruti           -0.1271      0.008    -15.186      0.000      -0.144      -0.111\n",
      "Manufacturer_Mercedes-Benz    -0.0565      0.008     -6.888      0.000      -0.073      -0.040\n",
      "Manufacturer_Mitsubishi       -0.1457      0.014    -10.431      0.000      -0.173      -0.118\n",
      "Manufacturer_Nissan           -0.1363      0.010    -12.992      0.000      -0.157      -0.116\n",
      "Manufacturer_Porsche           0.0884      0.017      5.100      0.000       0.054       0.122\n",
      "Manufacturer_Renault          -0.1419      0.010    -14.796      0.000      -0.161      -0.123\n",
      "Manufacturer_Skoda            -0.1407      0.009    -15.424      0.000      -0.159      -0.123\n",
      "Manufacturer_Tata             -0.1458      0.009    -15.485      0.000      -0.164      -0.127\n",
      "Manufacturer_Toyota           -0.1313      0.009    -14.584      0.000      -0.149      -0.114\n",
      "Manufacturer_Volkswagen       -0.1411      0.009    -16.252      0.000      -0.158      -0.124\n",
      "Manufacturer_Volvo            -0.1191      0.015     -7.994      0.000      -0.148      -0.090\n",
      "==============================================================================\n",
      "Omnibus:                     2145.308   Durbin-Watson:                   2.009\n",
      "Prob(Omnibus):                  0.000   Jarque-Bera (JB):            63989.660\n",
      "Skew:                           1.546   Prob(JB):                         0.00\n",
      "Kurtosis:                      20.704   Cond. No.                         64.6\n",
      "==============================================================================\n",
      "\n",
      "Notes:\n",
      "[1] Standard Errors assume that the covariance matrix of the errors is correctly specified.\n"
     ]
    }
   ],
   "source": [
    "print(lm6.summary())"
   ]
  },
  {
   "cell_type": "markdown",
   "id": "11643409",
   "metadata": {},
   "source": [
    "#### Predicting Trained Data"
   ]
  },
  {
   "cell_type": "code",
   "execution_count": 260,
   "id": "1a661424",
   "metadata": {},
   "outputs": [],
   "source": [
    "y_train_pred=lm6.predict(X_train_rfe5_sm)\n",
    "res=y_train-y_train_pred"
   ]
  },
  {
   "cell_type": "code",
   "execution_count": 261,
   "id": "5a5552c4",
   "metadata": {},
   "outputs": [
    {
     "data": {
      "image/png": "[encoded data removed]",
      "text/plain": [
       "<Figure size 432x288 with 1 Axes>"
      ]
     },
     "metadata": {
      "needs_background": "light"
     },
     "output_type": "display_data"
    }
   ],
   "source": [
    "sns.distplot(res,bins=15)\n",
    "plt.show()"
   ]
  },
  {
   "cell_type": "markdown",
   "id": "125880f3",
   "metadata": {},
   "source": [
    "#### Working with Testing data"
   ]
  },
  {
   "cell_type": "code",
   "execution_count": 271,
   "id": "e9ae1810",
   "metadata": {},
   "outputs": [
    {
     "name": "stdout",
     "output_type": "stream",
     "text": [
      "['Years', 'Kilometers_Driven', 'Mileage(Kmpl)', 'Engine(CC)', 'Power(bhp)', 'Seats', 'Price']\n"
     ]
    }
   ],
   "source": [
    "print(varlist)"
   ]
  },
  {
   "cell_type": "code",
   "execution_count": 262,
   "id": "9a450980",
   "metadata": {},
   "outputs": [],
   "source": [
    "feature=df_test[varlist]\n",
    "df_test[varlist]=scaler.transform(feature)"
   ]
  },
  {
   "cell_type": "code",
   "execution_count": 263,
   "id": "283adf10",
   "metadata": {},
   "outputs": [],
   "source": [
    "y_test=df_test.pop(\"Price\")\n",
    "X_test=df_test"
   ]
  },
  {
   "cell_type": "code",
   "execution_count": 264,
   "id": "6c0f54be",
   "metadata": {},
   "outputs": [],
   "source": [
    "# Now let's use our model to make predictions.\n",
    "\n",
    "# Creating X_test_new dataframe by dropping variables from X_test\n",
    "X_test_new = X_test[X_train_rfe5.columns]\n",
    "\n",
    "# Adding a constant variable \n",
    "X_test_new_sm = sm.add_constant(X_test_new)"
   ]
  },
  {
   "cell_type": "markdown",
   "id": "9108ecfe",
   "metadata": {},
   "source": [
    "### Predictions"
   ]
  },
  {
   "cell_type": "code",
   "execution_count": 265,
   "id": "94a04e45",
   "metadata": {},
   "outputs": [],
   "source": [
    "y_test_pred = lm6.predict(X_test_new_sm)"
   ]
  },
  {
   "cell_type": "code",
   "execution_count": 266,
   "id": "e76124b8",
   "metadata": {},
   "outputs": [],
   "source": [
    "res1=y_test-y_test_pred"
   ]
  },
  {
   "cell_type": "code",
   "execution_count": 267,
   "id": "b5456940",
   "metadata": {},
   "outputs": [
    {
     "data": {
      "image/png": "[encoded data removed]",
      "text/plain": [
       "<Figure size 432x288 with 1 Axes>"
      ]
     },
     "metadata": {
      "needs_background": "light"
     },
     "output_type": "display_data"
    }
   ],
   "source": [
    "sns.distplot(res,bins=15)\n",
    "plt.show()"
   ]
  },
  {
   "cell_type": "markdown",
   "id": "1fe56b5b",
   "metadata": {},
   "source": [
    "### Model Evaluation"
   ]
  },
  {
   "cell_type": "code",
   "execution_count": 268,
   "id": "f8857fa9",
   "metadata": {},
   "outputs": [
    {
     "data": {
      "text/plain": [
       "Text(0, 0.5, 'y_test_pred')"
      ]
     },
     "execution_count": 268,
     "metadata": {},
     "output_type": "execute_result"
    },
    {
     "data": {
      "image/png": "[encoded data removed]",
      "text/plain": [
       "<Figure size 432x288 with 1 Axes>"
      ]
     },
     "metadata": {
      "needs_background": "light"
     },
     "output_type": "display_data"
    }
   ],
   "source": [
    "# Plotting y_test and y_pred to understand the spread.\n",
    "fig = plt.figure()\n",
    "plt.scatter(y_test,y_test_pred)\n",
    "fig.suptitle('y_test vs y_tets_pred', fontsize=20)              # Plot heading \n",
    "plt.xlabel('y_test', fontsize=18)                          # X-label\n",
    "plt.ylabel('y_test_pred', fontsize=16)                          # Y-label"
   ]
  },
  {
   "cell_type": "markdown",
   "id": "c3c99f2c",
   "metadata": {},
   "source": [
    "### Calculating Error Terms"
   ]
  },
  {
   "cell_type": "code",
   "execution_count": 269,
   "id": "0d850ccd",
   "metadata": {},
   "outputs": [],
   "source": [
    "from sklearn.metrics import mean_squared_error, r2_score\n",
    "mse = mean_squared_error(y_test, y_test_pred)\n",
    "r_squared = r2_score(y_test, y_test_pred)"
   ]
  },
  {
   "cell_type": "code",
   "execution_count": 270,
   "id": "64e0307d",
   "metadata": {},
   "outputs": [
    {
     "name": "stdout",
     "output_type": "stream",
     "text": [
      "Mean_Squared_Error : 0.004704945509464641\n",
      "r_square_value : 0.6251238914256867\n"
     ]
    }
   ],
   "source": [
    "print('Mean_Squared_Error :' ,mse)\n",
    "print('r_square_value :',r_squared)"
   ]
  },
  {
   "cell_type": "markdown",
   "id": "5280eaf8",
   "metadata": {},
   "source": [
    "## Building Model using Random Forest"
   ]
  },
  {
   "cell_type": "code",
   "execution_count": 272,
   "id": "13e96803",
   "metadata": {},
   "outputs": [],
   "source": [
    "from sklearn.ensemble import RandomForestRegressor"
   ]
  },
  {
   "cell_type": "code",
   "execution_count": 273,
   "id": "641da03d",
   "metadata": {},
   "outputs": [
    {
     "data": {
      "text/plain": [
       "RandomForestRegressor(criterion='mse', n_estimators=15, n_jobs=-1,\n",
       "                      random_state=20)"
      ]
     },
     "execution_count": 273,
     "metadata": {},
     "output_type": "execute_result"
    }
   ],
   "source": [
    "Rf = RandomForestRegressor(n_estimators = 15,\n",
    "                              criterion = 'mse',\n",
    "                              random_state = 20,\n",
    "                              n_jobs = -1)\n",
    "Rf.fit(X_train,y_train)"
   ]
  },
  {
   "cell_type": "code",
   "execution_count": 274,
   "id": "809a460c",
   "metadata": {},
   "outputs": [
    {
     "data": {
      "text/plain": [
       "0.7511290307682695"
      ]
     },
     "execution_count": 274,
     "metadata": {},
     "output_type": "execute_result"
    }
   ],
   "source": [
    "Rf_train_pred = Rf.predict(X_train)\n",
    "Rf_test_pred = Rf.predict(X_test)\n",
    "\n",
    "\n",
    "r2_score(y_test,Rf_test_pred)"
   ]
  }
 ],
 "metadata": {
  "kernelspec": {
   "display_name": "Python 3 (ipykernel)",
   "language": "python",
   "name": "python3"
  },
  "language_info": {
   "codemirror_mode": {
    "name": "ipython",
    "version": 3
   },
   "file_extension": ".py",
   "mimetype": "text/x-python",
   "name": "python",
   "nbconvert_exporter": "python",
   "pygments_lexer": "ipython3",
   "version": "3.9.12"
  }
 },
 "nbformat": 4,
 "nbformat_minor": 5
}
